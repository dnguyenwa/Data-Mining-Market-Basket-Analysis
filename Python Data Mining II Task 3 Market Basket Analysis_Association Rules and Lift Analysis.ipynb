{
 "cells": [
  {
   "cell_type": "markdown",
   "id": "b9aaf8b7",
   "metadata": {},
   "source": [
    "Dung Nguyen\n",
    "\n",
    "Data Mining II, Dimensionality Reduction Methods - Task 2\n",
    "\n",
    "Market Basket Analysis\n",
    "\n",
    "December 25, 2021"
   ]
  },
  {
   "cell_type": "markdown",
   "id": "9bf81e61",
   "metadata": {},
   "source": [
    "**Scenario 2**\n",
    "\n",
    "One of the most critical factors in patient relationship management that directly affects a hospital’s long-term cost-effectiveness is understanding its patients and the conditions leading to hospital admissions. When a hospital can better understand its patients’ characteristics, it is better able to target treatment to patients, resulting in more effective cost of care for the hospital in the long term.\n",
    " \n",
    "You are an analyst for a hospital that wants to better understand the characteristics of its patients. You have been asked to use PCA to analyze patient data to identify the principal variables of your patients, ultimately allowing better business and strategic decision-making for the hospital.\n",
    "\n"
   ]
  },
  {
   "cell_type": "markdown",
   "id": "057f2e81",
   "metadata": {},
   "source": [
    "# Part 1: Research Question"
   ]
  },
  {
   "cell_type": "markdown",
   "id": "5388763e",
   "metadata": {},
   "source": [
    "**A1. Research Question:**\n",
    "\n",
    "Can we determine which variables are the most important in combination with prescription that might reduce the number of patients at high risk of readmission? What are the top 3 associated prescriptions drugs which can help us better understand our patients and identify patterns unique to the readmitted patient?\n",
    "\n",
    "I will use the market basket analysis in this research assignment."
   ]
  },
  {
   "cell_type": "markdown",
   "id": "1712577b",
   "metadata": {},
   "source": [
    "**A2. The goal of the data analysis:**\n",
    "    \n",
    "The business will be able to identify which variables are the most important in combination with the prescription drug to predict which patients are at high risk of readmission with some measure of confidence. This process will provide weight for making improvements to hospital services and treatments. This data analysis aims to present numerical values to hospital businesses to help them better understand their patients and the factor that causes readmissions."
   ]
  },
  {
   "cell_type": "markdown",
   "id": "886a3264",
   "metadata": {},
   "source": [
    "# Part 2: Market Basket Justification"
   ]
  },
  {
   "cell_type": "markdown",
   "id": "d353a132",
   "metadata": {},
   "source": [
    "**B1. Explanation of the market basket analysis:**\n",
    "\n",
    "\"Market basket analysis is a data mining technique used by retailers to increase sales by better understanding customer purchasing patterns. It involves analyzing large data sets, such as purchase history, to reveal product groupings, as well as products that are likely to be purchased together.\" (Tech Target Contributor, 2019)\n",
    "\n",
    "Market basket analysis (MBA) is the technique that allows us to analyze what patients buy together and why they buy it. For example, we can determine which variables are the most important in combination with prescription that might reduce the number of patients at high risk of readmission. The MBA is based on the \"basket/cart\"–items patients purchase at one time to understand the purchase strategy.\n",
    "\n",
    "The plan for analysis includes:\n",
    "\n",
    "1. Prepare the dataset\n",
    "* Install necessary packages\n",
    "* Read and check the data set in Python using Pandas' read_csv command\n",
    "* Naming the dataset as the variable \"medical_df\" and subsequent proper slices of the data frame as \"medical_df\".\n",
    "* Evaluate the data structure to understand input data better\n",
    "* Re-validate column, null values, and find missing values.\n",
    "* Drop records with missing values and Review changes\n",
    "* Replace empty values with 0\n",
    "* Show the prepared data.\n",
    "2. Use the Apriori method to identify association rules\n",
    "3. Check the rules with the highest importance for confidence, support, and lift\n",
    "4. The action following the results of the analysis\n"
   ]
  },
  {
   "cell_type": "markdown",
   "id": "cb0b2360",
   "metadata": {},
   "source": [
    "**B2. One example of transactions**\n",
    "\n",
    "From the given data set, the first transaction of twenty prescription drugs was taken by the patient, including:\n",
    "\n",
    "- amlodipine\n",
    "- albuterol aerosol\n",
    "- allopurinol\n",
    "- pantoprazole\n",
    "- lorazepam\n",
    "- omeprazole\n",
    "- mometasone\n",
    "- fluconozole\n",
    "- gabapentin\n",
    "- pravastatin\n",
    "- cialis\n",
    "- losartan\n",
    "- metoprolol succinate XL\n",
    "- sulfamethoxazole\n",
    "- abilify\n",
    "- spironolactone\n",
    "- albuterol HFA\n",
    "- levofloxacin\n",
    "- promethazine\n",
    "- glipizide"
   ]
  },
  {
   "cell_type": "markdown",
   "id": "a20e5f0e",
   "metadata": {},
   "source": [
    "**B3. Assumption of the market basket analysis** (one)\n",
    "\n",
    "According to Hua, \"The underlying assumption in market basket analysis is that joint occurrence of two or more products in most baskets imply that these products are complements in purchase, therefore, purchase of one will lead to purchase of others.\" (Hua, n.d)\n",
    "\n",
    "In this assignment, I will look at three methods of MBA measuring:\n",
    "1. Support: give the number of transactions containing all the cart items.\n",
    "2. Confidence is the conditional probability predicting the statement's right-hand side.\n",
    "3. Lift is the rule's confidence ratio, which is calculated by comparing the complete management to the right-hand side.\n"
   ]
  },
  {
   "cell_type": "markdown",
   "id": "23baa846",
   "metadata": {},
   "source": [
    "**Tool and technique:**\n",
    "\n",
    "I have many programming languages that I can use, such as R and Python, to achieve this process. In this assignment, I use Python to assess data quality, clean the data, and predict the data. Python is a multipurpose programming language with libraries that extend its capabilities to do statistical analysis. For the beginner, coding in Python is easy to read and easy to understand the flows of the program. Also, I will work with Python in the Jupyter notebooks as a convenient way to run code and visualizations and accessible to running documentation for my reference. \n",
    " \n",
    "The libraries and packages used to clean the data run in python environments such as Panda, NumPy, Scipy, Matplotlib, and Seaborn. These libraries and packages provide functionalities like reading large datasets like statistical functions like Zscore, creating visualization models like box plots and histograms. I also use the apriori algorithm package in order to help the manager in market basket analysis within Python.\n"
   ]
  },
  {
   "cell_type": "markdown",
   "id": "544b4def",
   "metadata": {},
   "source": [
    "# Part 3: Data Preparation"
   ]
  },
  {
   "cell_type": "markdown",
   "id": "755cc63d",
   "metadata": {},
   "source": [
    "**C1. Transforming the dataset**"
   ]
  },
  {
   "cell_type": "markdown",
   "id": "b66bd03f",
   "metadata": {},
   "source": [
    "I chose the medical dataset for this performance assignment by using **medical_market_basket.cvs** file.\n",
    "The medical_clean data set is 7501 patient precription records in the medical industry and 20 columns (variables).\n",
    "\n",
    "\n"
   ]
  },
  {
   "cell_type": "markdown",
   "id": "6ee31199",
   "metadata": {},
   "source": [
    "**Explain the steps**"
   ]
  },
  {
   "cell_type": "code",
   "execution_count": 1,
   "id": "c20301d2",
   "metadata": {},
   "outputs": [
    {
     "name": "stdout",
     "output_type": "stream",
     "text": [
      "Requirement already satisfied: pandas in c:\\users\\chris mcgee\\anaconda3\\lib\\site-packages (1.2.4)\n",
      "Requirement already satisfied: pytz>=2017.3 in c:\\users\\chris mcgee\\anaconda3\\lib\\site-packages (from pandas) (2021.1)\n",
      "Requirement already satisfied: numpy>=1.16.5 in c:\\users\\chris mcgee\\anaconda3\\lib\\site-packages (from pandas) (1.20.1)\n",
      "Requirement already satisfied: python-dateutil>=2.7.3 in c:\\users\\chris mcgee\\anaconda3\\lib\\site-packages (from pandas) (2.8.1)\n",
      "Requirement already satisfied: six>=1.5 in c:\\users\\chris mcgee\\anaconda3\\lib\\site-packages (from python-dateutil>=2.7.3->pandas) (1.15.0)\n",
      "Requirement already satisfied: numpy in c:\\users\\chris mcgee\\anaconda3\\lib\\site-packages (1.20.1)\n",
      "Requirement already satisfied: scipy in c:\\users\\chris mcgee\\anaconda3\\lib\\site-packages (1.6.2)\n",
      "Requirement already satisfied: numpy<1.23.0,>=1.16.5 in c:\\users\\chris mcgee\\anaconda3\\lib\\site-packages (from scipy) (1.20.1)\n",
      "Requirement already satisfied: sklearn in c:\\users\\chris mcgee\\anaconda3\\lib\\site-packages (0.0)\n",
      "Requirement already satisfied: scikit-learn in c:\\users\\chris mcgee\\anaconda3\\lib\\site-packages (from sklearn) (0.24.1)\n",
      "Requirement already satisfied: threadpoolctl>=2.0.0 in c:\\users\\chris mcgee\\anaconda3\\lib\\site-packages (from scikit-learn->sklearn) (2.1.0)\n",
      "Requirement already satisfied: numpy>=1.13.3 in c:\\users\\chris mcgee\\anaconda3\\lib\\site-packages (from scikit-learn->sklearn) (1.20.1)\n",
      "Requirement already satisfied: joblib>=0.11 in c:\\users\\chris mcgee\\anaconda3\\lib\\site-packages (from scikit-learn->sklearn) (1.0.1)\n",
      "Requirement already satisfied: scipy>=0.19.1 in c:\\users\\chris mcgee\\anaconda3\\lib\\site-packages (from scikit-learn->sklearn) (1.6.2)\n",
      "Requirement already satisfied: matplotlib in c:\\users\\chris mcgee\\anaconda3\\lib\\site-packages (3.3.4)\n",
      "Requirement already satisfied: cycler>=0.10 in c:\\users\\chris mcgee\\anaconda3\\lib\\site-packages (from matplotlib) (0.10.0)\n",
      "Requirement already satisfied: numpy>=1.15 in c:\\users\\chris mcgee\\anaconda3\\lib\\site-packages (from matplotlib) (1.20.1)\n",
      "Requirement already satisfied: pillow>=6.2.0 in c:\\users\\chris mcgee\\anaconda3\\lib\\site-packages (from matplotlib) (8.2.0)\n",
      "Requirement already satisfied: python-dateutil>=2.1 in c:\\users\\chris mcgee\\anaconda3\\lib\\site-packages (from matplotlib) (2.8.1)\n",
      "Requirement already satisfied: kiwisolver>=1.0.1 in c:\\users\\chris mcgee\\anaconda3\\lib\\site-packages (from matplotlib) (1.3.1)\n",
      "Requirement already satisfied: pyparsing!=2.0.4,!=2.1.2,!=2.1.6,>=2.0.3 in c:\\users\\chris mcgee\\anaconda3\\lib\\site-packages (from matplotlib) (2.4.7)\n",
      "Requirement already satisfied: six in c:\\users\\chris mcgee\\anaconda3\\lib\\site-packages (from cycler>=0.10->matplotlib) (1.15.0)\n",
      "Requirement already satisfied: sns in c:\\users\\chris mcgee\\anaconda3\\lib\\site-packages (0.1)\n",
      "Requirement already satisfied: plotly in c:\\users\\chris mcgee\\anaconda3\\lib\\site-packages (5.4.0)\n",
      "Requirement already satisfied: six in c:\\users\\chris mcgee\\anaconda3\\lib\\site-packages (from plotly) (1.15.0)\n",
      "Requirement already satisfied: tenacity>=6.2.0 in c:\\users\\chris mcgee\\anaconda3\\lib\\site-packages (from plotly) (8.0.1)\n",
      "Requirement already satisfied: missingno in c:\\users\\chris mcgee\\anaconda3\\lib\\site-packages (0.5.0)\n",
      "Requirement already satisfied: matplotlib in c:\\users\\chris mcgee\\anaconda3\\lib\\site-packages (from missingno) (3.3.4)\n",
      "Requirement already satisfied: numpy in c:\\users\\chris mcgee\\anaconda3\\lib\\site-packages (from missingno) (1.20.1)\n",
      "Requirement already satisfied: scipy in c:\\users\\chris mcgee\\anaconda3\\lib\\site-packages (from missingno) (1.6.2)\n",
      "Requirement already satisfied: seaborn in c:\\users\\chris mcgee\\anaconda3\\lib\\site-packages (from missingno) (0.11.1)\n",
      "Requirement already satisfied: python-dateutil>=2.1 in c:\\users\\chris mcgee\\anaconda3\\lib\\site-packages (from matplotlib->missingno) (2.8.1)\n",
      "Requirement already satisfied: cycler>=0.10 in c:\\users\\chris mcgee\\anaconda3\\lib\\site-packages (from matplotlib->missingno) (0.10.0)\n",
      "Requirement already satisfied: pyparsing!=2.0.4,!=2.1.2,!=2.1.6,>=2.0.3 in c:\\users\\chris mcgee\\anaconda3\\lib\\site-packages (from matplotlib->missingno) (2.4.7)\n",
      "Requirement already satisfied: pillow>=6.2.0 in c:\\users\\chris mcgee\\anaconda3\\lib\\site-packages (from matplotlib->missingno) (8.2.0)\n",
      "Requirement already satisfied: kiwisolver>=1.0.1 in c:\\users\\chris mcgee\\anaconda3\\lib\\site-packages (from matplotlib->missingno) (1.3.1)\n",
      "Requirement already satisfied: six in c:\\users\\chris mcgee\\anaconda3\\lib\\site-packages (from cycler>=0.10->matplotlib->missingno) (1.15.0)\n",
      "Requirement already satisfied: pandas>=0.23 in c:\\users\\chris mcgee\\anaconda3\\lib\\site-packages (from seaborn->missingno) (1.2.4)\n",
      "Requirement already satisfied: pytz>=2017.3 in c:\\users\\chris mcgee\\anaconda3\\lib\\site-packages (from pandas>=0.23->seaborn->missingno) (2021.1)\n",
      "Requirement already satisfied: six in c:\\users\\chris mcgee\\anaconda3\\lib\\site-packages (1.15.0)\n",
      "Requirement already satisfied: pydotplus in c:\\users\\chris mcgee\\anaconda3\\lib\\site-packages (2.0.2)\n",
      "Requirement already satisfied: pyparsing>=2.0.1 in c:\\users\\chris mcgee\\anaconda3\\lib\\site-packages (from pydotplus) (2.4.7)\n",
      "Requirement already satisfied: graphviz in c:\\users\\chris mcgee\\anaconda3\\lib\\site-packages (0.19)\n",
      "Requirement already satisfied: apyori in c:\\users\\chris mcgee\\anaconda3\\lib\\site-packages (1.1.2)\n"
     ]
    }
   ],
   "source": [
    "#1. Install necessary packages\n",
    "\n",
    "# Install necessary packages\n",
    "!pip install pandas\n",
    "!pip install numpy\n",
    "!pip install scipy\n",
    "!pip install sklearn\n",
    "!pip install matplotlib\n",
    "!pip install sns\n",
    "!pip install plotly\n",
    "!pip install missingno\n",
    "!pip install six\n",
    "!pip install pydotplus\n",
    "!pip install graphviz\n",
    "!pip install apyori\n",
    "# Please watch the video to see the file path."
   ]
  },
  {
   "cell_type": "code",
   "execution_count": 2,
   "id": "c5dd838d",
   "metadata": {},
   "outputs": [],
   "source": [
    "# Ignor warning error\n",
    "import warnings\n",
    "warnings.filterwarnings('ignore')\n",
    "\n",
    "# Standard imports\n",
    "import os\n",
    "import sys\n",
    "import pandas as pd\n",
    "from pandas import Series, DataFrame\n",
    "import numpy as np\n",
    "import matplotlib.pyplot as plt\n",
    "import matplotlib.mlab as mlab\n",
    "import seaborn as sns\n",
    "from plotly.subplots import make_subplots\n",
    "import plotly.graph_objs as go\n",
    "import missingno as msno\n",
    "from sklearn import decomposition\n",
    "from sklearn.preprocessing import scale\n",
    "from sklearn.decomposition import PCA\n",
    "\n",
    "\n",
    "#for encoding\n",
    "%matplotlib inline \n",
    "\n",
    "from apyori import apriori\n",
    "\n",
    "# Scipy\n",
    "from scipy.cluster.vq import kmeans, vq\n",
    "\n",
    "# Import Scikit-learn \n",
    "import sklearn\n",
    "from sklearn import preprocessing\n",
    "from sklearn.neighbors import KNeighborsClassifier\n",
    "from sklearn.model_selection import train_test_split\n",
    "\n",
    "\n",
    "#Import scikit-learn metrics module for accuracy calculation\n",
    "from sklearn import metrics\n",
    "from sklearn.metrics import classification_report\n",
    "from sklearn.metrics import accuracy_score\n",
    "from sklearn.metrics import classification_report, confusion_matrix #for visualizing tree \n",
    "from sklearn.tree import plot_tree\n",
    "\n",
    "\n"
   ]
  },
  {
   "cell_type": "code",
   "execution_count": 3,
   "id": "adcc0db0",
   "metadata": {},
   "outputs": [],
   "source": [
    "#Read and check the data set in Python using Pandas' read_csv command\n",
    "path = 'medical_market_basket.csv'\n",
    "medical_df_basket = pd.read_csv(path)"
   ]
  },
  {
   "cell_type": "code",
   "execution_count": 4,
   "id": "bed819bc",
   "metadata": {},
   "outputs": [
    {
     "data": {
      "text/html": [
       "<div>\n",
       "<style scoped>\n",
       "    .dataframe tbody tr th:only-of-type {\n",
       "        vertical-align: middle;\n",
       "    }\n",
       "\n",
       "    .dataframe tbody tr th {\n",
       "        vertical-align: top;\n",
       "    }\n",
       "\n",
       "    .dataframe thead th {\n",
       "        text-align: right;\n",
       "    }\n",
       "</style>\n",
       "<table border=\"1\" class=\"dataframe\">\n",
       "  <thead>\n",
       "    <tr style=\"text-align: right;\">\n",
       "      <th></th>\n",
       "      <th>Presc01</th>\n",
       "      <th>Presc02</th>\n",
       "      <th>Presc03</th>\n",
       "      <th>Presc04</th>\n",
       "      <th>Presc05</th>\n",
       "      <th>Presc06</th>\n",
       "      <th>Presc07</th>\n",
       "      <th>Presc08</th>\n",
       "      <th>Presc09</th>\n",
       "      <th>Presc10</th>\n",
       "      <th>Presc11</th>\n",
       "      <th>Presc12</th>\n",
       "      <th>Presc13</th>\n",
       "      <th>Presc14</th>\n",
       "      <th>Presc15</th>\n",
       "      <th>Presc16</th>\n",
       "      <th>Presc17</th>\n",
       "      <th>Presc18</th>\n",
       "      <th>Presc19</th>\n",
       "      <th>Presc20</th>\n",
       "    </tr>\n",
       "  </thead>\n",
       "  <tbody>\n",
       "    <tr>\n",
       "      <th>0</th>\n",
       "      <td>NaN</td>\n",
       "      <td>NaN</td>\n",
       "      <td>NaN</td>\n",
       "      <td>NaN</td>\n",
       "      <td>NaN</td>\n",
       "      <td>NaN</td>\n",
       "      <td>NaN</td>\n",
       "      <td>NaN</td>\n",
       "      <td>NaN</td>\n",
       "      <td>NaN</td>\n",
       "      <td>NaN</td>\n",
       "      <td>NaN</td>\n",
       "      <td>NaN</td>\n",
       "      <td>NaN</td>\n",
       "      <td>NaN</td>\n",
       "      <td>NaN</td>\n",
       "      <td>NaN</td>\n",
       "      <td>NaN</td>\n",
       "      <td>NaN</td>\n",
       "      <td>NaN</td>\n",
       "    </tr>\n",
       "    <tr>\n",
       "      <th>1</th>\n",
       "      <td>amlodipine</td>\n",
       "      <td>albuterol aerosol</td>\n",
       "      <td>allopurinol</td>\n",
       "      <td>pantoprazole</td>\n",
       "      <td>lorazepam</td>\n",
       "      <td>omeprazole</td>\n",
       "      <td>mometasone</td>\n",
       "      <td>fluconozole</td>\n",
       "      <td>gabapentin</td>\n",
       "      <td>pravastatin</td>\n",
       "      <td>cialis</td>\n",
       "      <td>losartan</td>\n",
       "      <td>metoprolol succinate XL</td>\n",
       "      <td>sulfamethoxazole</td>\n",
       "      <td>abilify</td>\n",
       "      <td>spironolactone</td>\n",
       "      <td>albuterol HFA</td>\n",
       "      <td>levofloxacin</td>\n",
       "      <td>promethazine</td>\n",
       "      <td>glipizide</td>\n",
       "    </tr>\n",
       "    <tr>\n",
       "      <th>2</th>\n",
       "      <td>NaN</td>\n",
       "      <td>NaN</td>\n",
       "      <td>NaN</td>\n",
       "      <td>NaN</td>\n",
       "      <td>NaN</td>\n",
       "      <td>NaN</td>\n",
       "      <td>NaN</td>\n",
       "      <td>NaN</td>\n",
       "      <td>NaN</td>\n",
       "      <td>NaN</td>\n",
       "      <td>NaN</td>\n",
       "      <td>NaN</td>\n",
       "      <td>NaN</td>\n",
       "      <td>NaN</td>\n",
       "      <td>NaN</td>\n",
       "      <td>NaN</td>\n",
       "      <td>NaN</td>\n",
       "      <td>NaN</td>\n",
       "      <td>NaN</td>\n",
       "      <td>NaN</td>\n",
       "    </tr>\n",
       "    <tr>\n",
       "      <th>3</th>\n",
       "      <td>citalopram</td>\n",
       "      <td>benicar</td>\n",
       "      <td>amphetamine salt combo xr</td>\n",
       "      <td>NaN</td>\n",
       "      <td>NaN</td>\n",
       "      <td>NaN</td>\n",
       "      <td>NaN</td>\n",
       "      <td>NaN</td>\n",
       "      <td>NaN</td>\n",
       "      <td>NaN</td>\n",
       "      <td>NaN</td>\n",
       "      <td>NaN</td>\n",
       "      <td>NaN</td>\n",
       "      <td>NaN</td>\n",
       "      <td>NaN</td>\n",
       "      <td>NaN</td>\n",
       "      <td>NaN</td>\n",
       "      <td>NaN</td>\n",
       "      <td>NaN</td>\n",
       "      <td>NaN</td>\n",
       "    </tr>\n",
       "    <tr>\n",
       "      <th>4</th>\n",
       "      <td>NaN</td>\n",
       "      <td>NaN</td>\n",
       "      <td>NaN</td>\n",
       "      <td>NaN</td>\n",
       "      <td>NaN</td>\n",
       "      <td>NaN</td>\n",
       "      <td>NaN</td>\n",
       "      <td>NaN</td>\n",
       "      <td>NaN</td>\n",
       "      <td>NaN</td>\n",
       "      <td>NaN</td>\n",
       "      <td>NaN</td>\n",
       "      <td>NaN</td>\n",
       "      <td>NaN</td>\n",
       "      <td>NaN</td>\n",
       "      <td>NaN</td>\n",
       "      <td>NaN</td>\n",
       "      <td>NaN</td>\n",
       "      <td>NaN</td>\n",
       "      <td>NaN</td>\n",
       "    </tr>\n",
       "  </tbody>\n",
       "</table>\n",
       "</div>"
      ],
      "text/plain": [
       "      Presc01            Presc02                    Presc03       Presc04  \\\n",
       "0         NaN                NaN                        NaN           NaN   \n",
       "1  amlodipine  albuterol aerosol                allopurinol  pantoprazole   \n",
       "2         NaN                NaN                        NaN           NaN   \n",
       "3  citalopram            benicar  amphetamine salt combo xr           NaN   \n",
       "4         NaN                NaN                        NaN           NaN   \n",
       "\n",
       "     Presc05     Presc06     Presc07      Presc08     Presc09      Presc10  \\\n",
       "0        NaN         NaN         NaN          NaN         NaN          NaN   \n",
       "1  lorazepam  omeprazole  mometasone  fluconozole  gabapentin  pravastatin   \n",
       "2        NaN         NaN         NaN          NaN         NaN          NaN   \n",
       "3        NaN         NaN         NaN          NaN         NaN          NaN   \n",
       "4        NaN         NaN         NaN          NaN         NaN          NaN   \n",
       "\n",
       "  Presc11   Presc12                  Presc13           Presc14  Presc15  \\\n",
       "0     NaN       NaN                      NaN               NaN      NaN   \n",
       "1  cialis  losartan  metoprolol succinate XL  sulfamethoxazole  abilify   \n",
       "2     NaN       NaN                      NaN               NaN      NaN   \n",
       "3     NaN       NaN                      NaN               NaN      NaN   \n",
       "4     NaN       NaN                      NaN               NaN      NaN   \n",
       "\n",
       "          Presc16        Presc17       Presc18       Presc19    Presc20  \n",
       "0             NaN            NaN           NaN           NaN        NaN  \n",
       "1  spironolactone  albuterol HFA  levofloxacin  promethazine  glipizide  \n",
       "2             NaN            NaN           NaN           NaN        NaN  \n",
       "3             NaN            NaN           NaN           NaN        NaN  \n",
       "4             NaN            NaN           NaN           NaN        NaN  "
      ]
     },
     "execution_count": 4,
     "metadata": {},
     "output_type": "execute_result"
    }
   ],
   "source": [
    "#Display Medical dataframe\n",
    "medical_df = medical_df_basket.copy()\n",
    "medical_df.head()"
   ]
  },
  {
   "cell_type": "code",
   "execution_count": 5,
   "id": "7861545d",
   "metadata": {},
   "outputs": [
    {
     "data": {
      "text/plain": [
       "(15002, 20)"
      ]
     },
     "execution_count": 5,
     "metadata": {},
     "output_type": "execute_result"
    }
   ],
   "source": [
    "#Evaluate the data structure to understand input data better\n",
    "\n",
    "# Dataset size\n",
    "medical_df.shape"
   ]
  },
  {
   "cell_type": "code",
   "execution_count": 6,
   "id": "80760cd0",
   "metadata": {},
   "outputs": [
    {
     "name": "stdout",
     "output_type": "stream",
     "text": [
      "Non-Numeric columns:\n",
      "Presc01\n",
      "Presc02\n",
      "Presc03\n",
      "Presc04\n",
      "Presc05\n",
      "Presc06\n",
      "Presc07\n",
      "Presc08\n",
      "Presc09\n",
      "Presc10\n",
      "Presc11\n",
      "Presc12\n",
      "Presc13\n",
      "Presc14\n",
      "Presc15\n",
      "Presc16\n",
      "Presc17\n",
      "Presc18\n",
      "Presc19\n",
      "Presc20\n",
      "\n",
      "Numeric columns:\n"
     ]
    }
   ],
   "source": [
    "#Check numerical and categorical data\n",
    "# check numerical and categorical data\n",
    "cat_df = medical_df.select_dtypes(include=['object'])\n",
    "num_df = medical_df.select_dtypes(exclude=['object'])\n",
    "\n",
    "def printColumnTypes(non_numeric_df, numeric_df):\n",
    "    '''separates non-numeric and numeric columns'''\n",
    "    print(\"Non-Numeric columns:\")\n",
    "    for col in non_numeric_df:\n",
    "        print(f\"{col}\")\n",
    "    print(\"\")\n",
    "    print(\"Numeric columns:\")\n",
    "    for col in numeric_df:\n",
    "        \n",
    "        print(f\"{col}\")\n",
    "        \n",
    "printColumnTypes(cat_df, num_df)"
   ]
  },
  {
   "cell_type": "code",
   "execution_count": 7,
   "id": "53bb4b0b",
   "metadata": {},
   "outputs": [
    {
     "name": "stdout",
     "output_type": "stream",
     "text": [
      "<class 'pandas.core.frame.DataFrame'>\n",
      "RangeIndex: 15002 entries, 0 to 15001\n",
      "Data columns (total 20 columns):\n",
      " #   Column   Non-Null Count  Dtype \n",
      "---  ------   --------------  ----- \n",
      " 0   Presc01  7501 non-null   object\n",
      " 1   Presc02  5747 non-null   object\n",
      " 2   Presc03  4389 non-null   object\n",
      " 3   Presc04  3345 non-null   object\n",
      " 4   Presc05  2529 non-null   object\n",
      " 5   Presc06  1864 non-null   object\n",
      " 6   Presc07  1369 non-null   object\n",
      " 7   Presc08  981 non-null    object\n",
      " 8   Presc09  654 non-null    object\n",
      " 9   Presc10  395 non-null    object\n",
      " 10  Presc11  256 non-null    object\n",
      " 11  Presc12  154 non-null    object\n",
      " 12  Presc13  87 non-null     object\n",
      " 13  Presc14  47 non-null     object\n",
      " 14  Presc15  25 non-null     object\n",
      " 15  Presc16  8 non-null      object\n",
      " 16  Presc17  4 non-null      object\n",
      " 17  Presc18  4 non-null      object\n",
      " 18  Presc19  3 non-null      object\n",
      " 19  Presc20  1 non-null      object\n",
      "dtypes: object(20)\n",
      "memory usage: 2.3+ MB\n"
     ]
    }
   ],
   "source": [
    "# Check the information of data\n",
    "medical_df.info()"
   ]
  },
  {
   "cell_type": "code",
   "execution_count": 8,
   "id": "54527b59",
   "metadata": {},
   "outputs": [
    {
     "data": {
      "text/html": [
       "<div>\n",
       "<style scoped>\n",
       "    .dataframe tbody tr th:only-of-type {\n",
       "        vertical-align: middle;\n",
       "    }\n",
       "\n",
       "    .dataframe tbody tr th {\n",
       "        vertical-align: top;\n",
       "    }\n",
       "\n",
       "    .dataframe thead th {\n",
       "        text-align: right;\n",
       "    }\n",
       "</style>\n",
       "<table border=\"1\" class=\"dataframe\">\n",
       "  <thead>\n",
       "    <tr style=\"text-align: right;\">\n",
       "      <th></th>\n",
       "      <th>Presc01</th>\n",
       "      <th>Presc02</th>\n",
       "      <th>Presc03</th>\n",
       "      <th>Presc04</th>\n",
       "      <th>Presc05</th>\n",
       "      <th>Presc06</th>\n",
       "      <th>Presc07</th>\n",
       "      <th>Presc08</th>\n",
       "      <th>Presc09</th>\n",
       "      <th>Presc10</th>\n",
       "      <th>Presc11</th>\n",
       "      <th>Presc12</th>\n",
       "      <th>Presc13</th>\n",
       "      <th>Presc14</th>\n",
       "      <th>Presc15</th>\n",
       "      <th>Presc16</th>\n",
       "      <th>Presc17</th>\n",
       "      <th>Presc18</th>\n",
       "      <th>Presc19</th>\n",
       "      <th>Presc20</th>\n",
       "    </tr>\n",
       "  </thead>\n",
       "  <tbody>\n",
       "    <tr>\n",
       "      <th>count</th>\n",
       "      <td>7501</td>\n",
       "      <td>5747</td>\n",
       "      <td>4389</td>\n",
       "      <td>3345</td>\n",
       "      <td>2529</td>\n",
       "      <td>1864</td>\n",
       "      <td>1369</td>\n",
       "      <td>981</td>\n",
       "      <td>654</td>\n",
       "      <td>395</td>\n",
       "      <td>256</td>\n",
       "      <td>154</td>\n",
       "      <td>87</td>\n",
       "      <td>47</td>\n",
       "      <td>25</td>\n",
       "      <td>8</td>\n",
       "      <td>4</td>\n",
       "      <td>4</td>\n",
       "      <td>3</td>\n",
       "      <td>1</td>\n",
       "    </tr>\n",
       "    <tr>\n",
       "      <th>unique</th>\n",
       "      <td>115</td>\n",
       "      <td>117</td>\n",
       "      <td>115</td>\n",
       "      <td>114</td>\n",
       "      <td>110</td>\n",
       "      <td>106</td>\n",
       "      <td>102</td>\n",
       "      <td>97</td>\n",
       "      <td>88</td>\n",
       "      <td>80</td>\n",
       "      <td>66</td>\n",
       "      <td>50</td>\n",
       "      <td>43</td>\n",
       "      <td>28</td>\n",
       "      <td>19</td>\n",
       "      <td>8</td>\n",
       "      <td>3</td>\n",
       "      <td>3</td>\n",
       "      <td>3</td>\n",
       "      <td>1</td>\n",
       "    </tr>\n",
       "    <tr>\n",
       "      <th>top</th>\n",
       "      <td>abilify</td>\n",
       "      <td>abilify</td>\n",
       "      <td>abilify</td>\n",
       "      <td>abilify</td>\n",
       "      <td>losartan</td>\n",
       "      <td>glyburide</td>\n",
       "      <td>losartan</td>\n",
       "      <td>losartan</td>\n",
       "      <td>losartan</td>\n",
       "      <td>losartan</td>\n",
       "      <td>cialis</td>\n",
       "      <td>losartan</td>\n",
       "      <td>losartan</td>\n",
       "      <td>losartan</td>\n",
       "      <td>celebrex</td>\n",
       "      <td>spironolactone</td>\n",
       "      <td>levofloxacin</td>\n",
       "      <td>temezepam</td>\n",
       "      <td>boniva</td>\n",
       "      <td>glipizide</td>\n",
       "    </tr>\n",
       "    <tr>\n",
       "      <th>freq</th>\n",
       "      <td>577</td>\n",
       "      <td>484</td>\n",
       "      <td>375</td>\n",
       "      <td>201</td>\n",
       "      <td>153</td>\n",
       "      <td>107</td>\n",
       "      <td>96</td>\n",
       "      <td>67</td>\n",
       "      <td>57</td>\n",
       "      <td>31</td>\n",
       "      <td>22</td>\n",
       "      <td>15</td>\n",
       "      <td>8</td>\n",
       "      <td>4</td>\n",
       "      <td>3</td>\n",
       "      <td>1</td>\n",
       "      <td>2</td>\n",
       "      <td>2</td>\n",
       "      <td>1</td>\n",
       "      <td>1</td>\n",
       "    </tr>\n",
       "  </tbody>\n",
       "</table>\n",
       "</div>"
      ],
      "text/plain": [
       "        Presc01  Presc02  Presc03  Presc04   Presc05    Presc06   Presc07  \\\n",
       "count      7501     5747     4389     3345      2529       1864      1369   \n",
       "unique      115      117      115      114       110        106       102   \n",
       "top     abilify  abilify  abilify  abilify  losartan  glyburide  losartan   \n",
       "freq        577      484      375      201       153        107        96   \n",
       "\n",
       "         Presc08   Presc09   Presc10 Presc11   Presc12   Presc13   Presc14  \\\n",
       "count        981       654       395     256       154        87        47   \n",
       "unique        97        88        80      66        50        43        28   \n",
       "top     losartan  losartan  losartan  cialis  losartan  losartan  losartan   \n",
       "freq          67        57        31      22        15         8         4   \n",
       "\n",
       "         Presc15         Presc16       Presc17    Presc18 Presc19    Presc20  \n",
       "count         25               8             4          4       3          1  \n",
       "unique        19               8             3          3       3          1  \n",
       "top     celebrex  spironolactone  levofloxacin  temezepam  boniva  glipizide  \n",
       "freq           3               1             2          2       1          1  "
      ]
     },
     "execution_count": 8,
     "metadata": {},
     "output_type": "execute_result"
    }
   ],
   "source": [
    "# Describe Churn dataset statistics\n",
    "medical_df.describe()"
   ]
  },
  {
   "cell_type": "code",
   "execution_count": 9,
   "id": "d07f0c35",
   "metadata": {},
   "outputs": [
    {
     "data": {
      "text/plain": [
       "{object: ['Presc01', 'Presc02', 'Presc03', 'Presc04', 'Presc05', 'Presc06', 'Presc07', 'Presc08', 'Presc09', 'Presc10', 'Presc11', 'Presc12', 'Presc13', 'Presc14', 'Presc15', 'Presc16', 'Presc17', 'Presc18', 'Presc19', 'Presc20']}"
      ]
     },
     "execution_count": 9,
     "metadata": {},
     "output_type": "execute_result"
    }
   ],
   "source": [
    "#Re-validate column data types and missing value\n",
    "\n",
    "medical_df.columns.to_series().groupby(medical_df.dtypes).groups\n"
   ]
  },
  {
   "cell_type": "code",
   "execution_count": 10,
   "id": "d309748a",
   "metadata": {},
   "outputs": [
    {
     "name": "stdout",
     "output_type": "stream",
     "text": [
      "Presc01     7501\n",
      "Presc02     9255\n",
      "Presc03    10613\n",
      "Presc04    11657\n",
      "Presc05    12473\n",
      "Presc06    13138\n",
      "Presc07    13633\n",
      "Presc08    14021\n",
      "Presc09    14348\n",
      "Presc10    14607\n",
      "Presc11    14746\n",
      "Presc12    14848\n",
      "Presc13    14915\n",
      "Presc14    14955\n",
      "Presc15    14977\n",
      "Presc16    14994\n",
      "Presc17    14998\n",
      "Presc18    14998\n",
      "Presc19    14999\n",
      "Presc20    15001\n",
      "dtype: int64\n"
     ]
    }
   ],
   "source": [
    "# check null values\n",
    "df_nulls = medical_df.isnull().sum()\n",
    "print(df_nulls)"
   ]
  },
  {
   "cell_type": "code",
   "execution_count": 11,
   "id": "0d22d87c",
   "metadata": {},
   "outputs": [
    {
     "name": "stdout",
     "output_type": "stream",
     "text": [
      "Presc01 => 7501\n",
      "Presc02 => 9255\n",
      "Presc03 => 10613\n",
      "Presc04 => 11657\n",
      "Presc05 => 12473\n",
      "Presc06 => 13138\n",
      "Presc07 => 13633\n",
      "Presc08 => 14021\n",
      "Presc09 => 14348\n",
      "Presc10 => 14607\n",
      "Presc11 => 14746\n",
      "Presc12 => 14848\n",
      "Presc13 => 14915\n",
      "Presc14 => 14955\n",
      "Presc15 => 14977\n",
      "Presc16 => 14994\n",
      "Presc17 => 14998\n",
      "Presc18 => 14998\n",
      "Presc19 => 14999\n",
      "Presc20 => 15001\n"
     ]
    }
   ],
   "source": [
    "# check missing data and its size\n",
    "def missing_cols(medical_df):\n",
    "    '''prints out columns with its amount of missing values'''\n",
    "    total = 0\n",
    "    for col in medical_df.columns:\n",
    "        missing_vals = medical_df[col].isnull().sum()\n",
    "        total += missing_vals\n",
    "        if missing_vals != 0:\n",
    "            print(f\"{col} => {medical_df[col].isnull().sum()}\")\n",
    "    \n",
    "    if total == 0:\n",
    "        print(\"no missing values left\")\n",
    "            \n",
    "missing_cols(medical_df)"
   ]
  },
  {
   "cell_type": "code",
   "execution_count": 12,
   "id": "d6a1df8f",
   "metadata": {},
   "outputs": [
    {
     "data": {
      "text/html": [
       "<div>\n",
       "<style scoped>\n",
       "    .dataframe tbody tr th:only-of-type {\n",
       "        vertical-align: middle;\n",
       "    }\n",
       "\n",
       "    .dataframe tbody tr th {\n",
       "        vertical-align: top;\n",
       "    }\n",
       "\n",
       "    .dataframe thead th {\n",
       "        text-align: right;\n",
       "    }\n",
       "</style>\n",
       "<table border=\"1\" class=\"dataframe\">\n",
       "  <thead>\n",
       "    <tr style=\"text-align: right;\">\n",
       "      <th></th>\n",
       "      <th>Presc01</th>\n",
       "      <th>Presc02</th>\n",
       "      <th>Presc03</th>\n",
       "      <th>Presc04</th>\n",
       "      <th>Presc05</th>\n",
       "      <th>Presc06</th>\n",
       "      <th>Presc07</th>\n",
       "      <th>Presc08</th>\n",
       "      <th>Presc09</th>\n",
       "      <th>Presc10</th>\n",
       "      <th>Presc11</th>\n",
       "      <th>Presc12</th>\n",
       "      <th>Presc13</th>\n",
       "      <th>Presc14</th>\n",
       "      <th>Presc15</th>\n",
       "      <th>Presc16</th>\n",
       "      <th>Presc17</th>\n",
       "      <th>Presc18</th>\n",
       "      <th>Presc19</th>\n",
       "      <th>Presc20</th>\n",
       "    </tr>\n",
       "  </thead>\n",
       "  <tbody>\n",
       "    <tr>\n",
       "      <th>1</th>\n",
       "      <td>amlodipine</td>\n",
       "      <td>albuterol aerosol</td>\n",
       "      <td>allopurinol</td>\n",
       "      <td>pantoprazole</td>\n",
       "      <td>lorazepam</td>\n",
       "      <td>omeprazole</td>\n",
       "      <td>mometasone</td>\n",
       "      <td>fluconozole</td>\n",
       "      <td>gabapentin</td>\n",
       "      <td>pravastatin</td>\n",
       "      <td>cialis</td>\n",
       "      <td>losartan</td>\n",
       "      <td>metoprolol succinate XL</td>\n",
       "      <td>sulfamethoxazole</td>\n",
       "      <td>abilify</td>\n",
       "      <td>spironolactone</td>\n",
       "      <td>albuterol HFA</td>\n",
       "      <td>levofloxacin</td>\n",
       "      <td>promethazine</td>\n",
       "      <td>glipizide</td>\n",
       "    </tr>\n",
       "    <tr>\n",
       "      <th>3</th>\n",
       "      <td>citalopram</td>\n",
       "      <td>benicar</td>\n",
       "      <td>amphetamine salt combo xr</td>\n",
       "      <td>NaN</td>\n",
       "      <td>NaN</td>\n",
       "      <td>NaN</td>\n",
       "      <td>NaN</td>\n",
       "      <td>NaN</td>\n",
       "      <td>NaN</td>\n",
       "      <td>NaN</td>\n",
       "      <td>NaN</td>\n",
       "      <td>NaN</td>\n",
       "      <td>NaN</td>\n",
       "      <td>NaN</td>\n",
       "      <td>NaN</td>\n",
       "      <td>NaN</td>\n",
       "      <td>NaN</td>\n",
       "      <td>NaN</td>\n",
       "      <td>NaN</td>\n",
       "      <td>NaN</td>\n",
       "    </tr>\n",
       "    <tr>\n",
       "      <th>5</th>\n",
       "      <td>enalapril</td>\n",
       "      <td>NaN</td>\n",
       "      <td>NaN</td>\n",
       "      <td>NaN</td>\n",
       "      <td>NaN</td>\n",
       "      <td>NaN</td>\n",
       "      <td>NaN</td>\n",
       "      <td>NaN</td>\n",
       "      <td>NaN</td>\n",
       "      <td>NaN</td>\n",
       "      <td>NaN</td>\n",
       "      <td>NaN</td>\n",
       "      <td>NaN</td>\n",
       "      <td>NaN</td>\n",
       "      <td>NaN</td>\n",
       "      <td>NaN</td>\n",
       "      <td>NaN</td>\n",
       "      <td>NaN</td>\n",
       "      <td>NaN</td>\n",
       "      <td>NaN</td>\n",
       "    </tr>\n",
       "    <tr>\n",
       "      <th>7</th>\n",
       "      <td>paroxetine</td>\n",
       "      <td>allopurinol</td>\n",
       "      <td>NaN</td>\n",
       "      <td>NaN</td>\n",
       "      <td>NaN</td>\n",
       "      <td>NaN</td>\n",
       "      <td>NaN</td>\n",
       "      <td>NaN</td>\n",
       "      <td>NaN</td>\n",
       "      <td>NaN</td>\n",
       "      <td>NaN</td>\n",
       "      <td>NaN</td>\n",
       "      <td>NaN</td>\n",
       "      <td>NaN</td>\n",
       "      <td>NaN</td>\n",
       "      <td>NaN</td>\n",
       "      <td>NaN</td>\n",
       "      <td>NaN</td>\n",
       "      <td>NaN</td>\n",
       "      <td>NaN</td>\n",
       "    </tr>\n",
       "    <tr>\n",
       "      <th>9</th>\n",
       "      <td>abilify</td>\n",
       "      <td>atorvastatin</td>\n",
       "      <td>folic acid</td>\n",
       "      <td>naproxen</td>\n",
       "      <td>losartan</td>\n",
       "      <td>NaN</td>\n",
       "      <td>NaN</td>\n",
       "      <td>NaN</td>\n",
       "      <td>NaN</td>\n",
       "      <td>NaN</td>\n",
       "      <td>NaN</td>\n",
       "      <td>NaN</td>\n",
       "      <td>NaN</td>\n",
       "      <td>NaN</td>\n",
       "      <td>NaN</td>\n",
       "      <td>NaN</td>\n",
       "      <td>NaN</td>\n",
       "      <td>NaN</td>\n",
       "      <td>NaN</td>\n",
       "      <td>NaN</td>\n",
       "    </tr>\n",
       "  </tbody>\n",
       "</table>\n",
       "</div>"
      ],
      "text/plain": [
       "      Presc01            Presc02                    Presc03       Presc04  \\\n",
       "1  amlodipine  albuterol aerosol                allopurinol  pantoprazole   \n",
       "3  citalopram            benicar  amphetamine salt combo xr           NaN   \n",
       "5   enalapril                NaN                        NaN           NaN   \n",
       "7  paroxetine        allopurinol                        NaN           NaN   \n",
       "9     abilify       atorvastatin                 folic acid      naproxen   \n",
       "\n",
       "     Presc05     Presc06     Presc07      Presc08     Presc09      Presc10  \\\n",
       "1  lorazepam  omeprazole  mometasone  fluconozole  gabapentin  pravastatin   \n",
       "3        NaN         NaN         NaN          NaN         NaN          NaN   \n",
       "5        NaN         NaN         NaN          NaN         NaN          NaN   \n",
       "7        NaN         NaN         NaN          NaN         NaN          NaN   \n",
       "9   losartan         NaN         NaN          NaN         NaN          NaN   \n",
       "\n",
       "  Presc11   Presc12                  Presc13           Presc14  Presc15  \\\n",
       "1  cialis  losartan  metoprolol succinate XL  sulfamethoxazole  abilify   \n",
       "3     NaN       NaN                      NaN               NaN      NaN   \n",
       "5     NaN       NaN                      NaN               NaN      NaN   \n",
       "7     NaN       NaN                      NaN               NaN      NaN   \n",
       "9     NaN       NaN                      NaN               NaN      NaN   \n",
       "\n",
       "          Presc16        Presc17       Presc18       Presc19    Presc20  \n",
       "1  spironolactone  albuterol HFA  levofloxacin  promethazine  glipizide  \n",
       "3             NaN            NaN           NaN           NaN        NaN  \n",
       "5             NaN            NaN           NaN           NaN        NaN  \n",
       "7             NaN            NaN           NaN           NaN        NaN  \n",
       "9             NaN            NaN           NaN           NaN        NaN  "
      ]
     },
     "execution_count": 12,
     "metadata": {},
     "output_type": "execute_result"
    }
   ],
   "source": [
    "# Drop records with missing values (Null value in all rows only)\n",
    "medical_df.dropna(how='all', inplace=True)\n",
    "# Review changes\n",
    "medical_df.head()"
   ]
  },
  {
   "cell_type": "code",
   "execution_count": 13,
   "id": "e8cb21d9",
   "metadata": {},
   "outputs": [],
   "source": [
    "# Replace empty values with 0\n",
    "medical_df.fillna(0, inplace=True)"
   ]
  },
  {
   "cell_type": "code",
   "execution_count": 14,
   "id": "d6f666e9",
   "metadata": {},
   "outputs": [
    {
     "data": {
      "text/plain": [
       "(7501, 20)"
      ]
     },
     "execution_count": 14,
     "metadata": {},
     "output_type": "execute_result"
    }
   ],
   "source": [
    "# Check dataset size after changes\n",
    "medical_df.shape"
   ]
  },
  {
   "cell_type": "code",
   "execution_count": 15,
   "id": "839ab003",
   "metadata": {},
   "outputs": [
    {
     "name": "stdout",
     "output_type": "stream",
     "text": [
      "<class 'pandas.core.frame.DataFrame'>\n",
      "Int64Index: 7501 entries, 1 to 15001\n",
      "Data columns (total 20 columns):\n",
      " #   Column   Non-Null Count  Dtype \n",
      "---  ------   --------------  ----- \n",
      " 0   Presc01  7501 non-null   object\n",
      " 1   Presc02  7501 non-null   object\n",
      " 2   Presc03  7501 non-null   object\n",
      " 3   Presc04  7501 non-null   object\n",
      " 4   Presc05  7501 non-null   object\n",
      " 5   Presc06  7501 non-null   object\n",
      " 6   Presc07  7501 non-null   object\n",
      " 7   Presc08  7501 non-null   object\n",
      " 8   Presc09  7501 non-null   object\n",
      " 9   Presc10  7501 non-null   object\n",
      " 10  Presc11  7501 non-null   object\n",
      " 11  Presc12  7501 non-null   object\n",
      " 12  Presc13  7501 non-null   object\n",
      " 13  Presc14  7501 non-null   object\n",
      " 14  Presc15  7501 non-null   object\n",
      " 15  Presc16  7501 non-null   object\n",
      " 16  Presc17  7501 non-null   object\n",
      " 17  Presc18  7501 non-null   object\n",
      " 18  Presc19  7501 non-null   object\n",
      " 19  Presc20  7501 non-null   object\n",
      "dtypes: object(20)\n",
      "memory usage: 1.2+ MB\n"
     ]
    }
   ],
   "source": [
    "# Confirm no null values\n",
    "medical_df.info()"
   ]
  },
  {
   "cell_type": "code",
   "execution_count": 16,
   "id": "ee4a2b1c",
   "metadata": {},
   "outputs": [
    {
     "name": "stdout",
     "output_type": "stream",
     "text": [
      "----------------------------------------Presc01---------------------------------------- - "
     ]
    },
    {
     "data": {
      "text/plain": [
       "abilify           577\n",
       "citalopram        576\n",
       "paroxetine        458\n",
       "diazepam          391\n",
       "metoprolol        373\n",
       "                 ... \n",
       "fluoxetine HCI      1\n",
       "fexofenadine        1\n",
       "valaciclovir        1\n",
       "carisoprodol        1\n",
       "crestor             1\n",
       "Name: Presc01, Length: 115, dtype: int64"
      ]
     },
     "metadata": {},
     "output_type": "display_data"
    },
    {
     "name": "stdout",
     "output_type": "stream",
     "text": [
      "----------------------------------------Presc02---------------------------------------- - "
     ]
    },
    {
     "data": {
      "text/plain": [
       "0                            1754\n",
       "abilify                       484\n",
       "carvedilol                    411\n",
       "amphetamine salt combo xr     302\n",
       "lisinopril                    291\n",
       "                             ... \n",
       "alendronate                     2\n",
       "clonazepam                      1\n",
       "cyclobenzaprine                 1\n",
       "fluoxetine HCI                  1\n",
       "hydrocortisone 2.5% cream       1\n",
       "Name: Presc02, Length: 118, dtype: int64"
      ]
     },
     "metadata": {},
     "output_type": "display_data"
    },
    {
     "name": "stdout",
     "output_type": "stream",
     "text": [
      "----------------------------------------Presc03---------------------------------------- - "
     ]
    },
    {
     "data": {
      "text/plain": [
       "0                            3112\n",
       "abilify                       375\n",
       "carvedilol                    279\n",
       "amphetamine salt combo xr     225\n",
       "atorvastatin                  213\n",
       "                             ... \n",
       "clonazepam                      1\n",
       "fluoxetine HCI                  1\n",
       "topiramate                      1\n",
       "hydrocortisone 2.5% cream       1\n",
       "metformin HCI                   1\n",
       "Name: Presc03, Length: 116, dtype: int64"
      ]
     },
     "metadata": {},
     "output_type": "display_data"
    },
    {
     "name": "stdout",
     "output_type": "stream",
     "text": [
      "----------------------------------------Presc04---------------------------------------- - "
     ]
    },
    {
     "data": {
      "text/plain": [
       "0                             4156\n",
       "abilify                        201\n",
       "amphetamine salt combo xr      181\n",
       "glyburide                      174\n",
       "carvedilol                     167\n",
       "                              ... \n",
       "hydrocortisone 2.5% cream        1\n",
       "meloxicam                        1\n",
       "finasteride                      1\n",
       "sulfamethoxazole                 1\n",
       "flovent hfa 110mcg inhaler       1\n",
       "Name: Presc04, Length: 115, dtype: int64"
      ]
     },
     "metadata": {},
     "output_type": "display_data"
    },
    {
     "name": "stdout",
     "output_type": "stream",
     "text": [
      "----------------------------------------Presc05---------------------------------------- - "
     ]
    },
    {
     "data": {
      "text/plain": [
       "0                            4972\n",
       "losartan                      153\n",
       "amphetamine salt combo xr     134\n",
       "glyburide                     130\n",
       "diazepam                      115\n",
       "                             ... \n",
       "sulfamethoxazole                2\n",
       "tamsulosin                      2\n",
       "valaciclovir                    2\n",
       "fluoxetine HCI                  1\n",
       "amphetamine salt combo          1\n",
       "Name: Presc05, Length: 111, dtype: int64"
      ]
     },
     "metadata": {},
     "output_type": "display_data"
    },
    {
     "name": "stdout",
     "output_type": "stream",
     "text": [
      "----------------------------------------Presc06---------------------------------------- - "
     ]
    },
    {
     "data": {
      "text/plain": [
       "0                            5637\n",
       "glyburide                     107\n",
       "amphetamine salt combo xr     102\n",
       "losartan                      100\n",
       "diazepam                       71\n",
       "                             ... \n",
       "promethazine                    1\n",
       "metoprolol                      1\n",
       "bupropion sr                    1\n",
       "mometasone                      1\n",
       "viagra                          1\n",
       "Name: Presc06, Length: 107, dtype: int64"
      ]
     },
     "metadata": {},
     "output_type": "display_data"
    },
    {
     "name": "stdout",
     "output_type": "stream",
     "text": [
      "----------------------------------------Presc07---------------------------------------- - "
     ]
    },
    {
     "data": {
      "text/plain": [
       "0                            6132\n",
       "losartan                       96\n",
       "glyburide                      81\n",
       "doxycycline hyclate            69\n",
       "amphetamine salt combo xr      59\n",
       "                             ... \n",
       "glimepiride                     2\n",
       "trazodone HCI                   1\n",
       "triamcinolone Ace topical       1\n",
       "verapamil SR                    1\n",
       "Yaz                             1\n",
       "Name: Presc07, Length: 103, dtype: int64"
      ]
     },
     "metadata": {},
     "output_type": "display_data"
    },
    {
     "name": "stdout",
     "output_type": "stream",
     "text": [
      "----------------------------------------Presc08---------------------------------------- - "
     ]
    },
    {
     "data": {
      "text/plain": [
       "0                      6520\n",
       "losartan                 67\n",
       "doxycycline hyclate      44\n",
       "cialis                   43\n",
       "glyburide                40\n",
       "                       ... \n",
       "metformin                 1\n",
       "finasteride               1\n",
       "ranitidine                1\n",
       "glimepiride               1\n",
       "benicar                   1\n",
       "Name: Presc08, Length: 98, dtype: int64"
      ]
     },
     "metadata": {},
     "output_type": "display_data"
    },
    {
     "name": "stdout",
     "output_type": "stream",
     "text": [
      "----------------------------------------Presc09---------------------------------------- - "
     ]
    },
    {
     "data": {
      "text/plain": [
       "0                   6847\n",
       "losartan              57\n",
       "cialis                38\n",
       "levofloxacin          35\n",
       "glyburide             34\n",
       "                    ... \n",
       "metformin              1\n",
       "ranitidine             1\n",
       "sulfamethoxazole       1\n",
       "cephalexin             1\n",
       "acetaminophen          1\n",
       "Name: Presc09, Length: 89, dtype: int64"
      ]
     },
     "metadata": {},
     "output_type": "display_data"
    },
    {
     "name": "stdout",
     "output_type": "stream",
     "text": [
      "----------------------------------------Presc10---------------------------------------- - "
     ]
    },
    {
     "data": {
      "text/plain": [
       "0                 7106\n",
       "losartan            31\n",
       "glyburide           19\n",
       "cialis              17\n",
       "pravastatin         17\n",
       "                  ... \n",
       "tramadol             1\n",
       "crestor              1\n",
       "Yaz                  1\n",
       "bupropion sr         1\n",
       "clavulanate K+       1\n",
       "Name: Presc10, Length: 81, dtype: int64"
      ]
     },
     "metadata": {},
     "output_type": "display_data"
    },
    {
     "name": "stdout",
     "output_type": "stream",
     "text": [
      "----------------------------------------Presc11---------------------------------------- - "
     ]
    },
    {
     "data": {
      "text/plain": [
       "0                   7245\n",
       "cialis                22\n",
       "losartan              20\n",
       "lantus                14\n",
       "glyburide             12\n",
       "                    ... \n",
       "sulfamethoxazole       1\n",
       "azithromycin           1\n",
       "viagra                 1\n",
       "carisoprodol           1\n",
       "ciprofloxacin          1\n",
       "Name: Presc11, Length: 67, dtype: int64"
      ]
     },
     "metadata": {},
     "output_type": "display_data"
    },
    {
     "name": "stdout",
     "output_type": "stream",
     "text": [
      "----------------------------------------Presc12---------------------------------------- - "
     ]
    },
    {
     "data": {
      "text/plain": [
       "0                            7347\n",
       "losartan                       15\n",
       "levofloxacin                   10\n",
       "glyburide                      10\n",
       "cialis                          9\n",
       "doxycycline hyclate             7\n",
       "lantus                          7\n",
       "pravastatin                     7\n",
       "zolpidem                        4\n",
       "metoprolol succinate XL         4\n",
       "celebrex                        3\n",
       "clonidine HCI                   3\n",
       "clotrimazole                    3\n",
       "alprazolam                      3\n",
       "diazepam                        3\n",
       "boniva                          3\n",
       "gabapentin                      3\n",
       "dextroamphetamine XR            3\n",
       "ezetimibe                       3\n",
       "metoprolol tartrate             3\n",
       "hydrocodone                     3\n",
       "temezepam                       3\n",
       "oxycodone                       3\n",
       "actonel                         3\n",
       "fluconozole                     3\n",
       "celecoxib                       2\n",
       "rosuvastatin                    2\n",
       "Premarin                        2\n",
       "amphetamine salt combo xr       2\n",
       "crestor                         2\n",
       "omeprazole                      2\n",
       "naproxen                        2\n",
       "simvastatin                     2\n",
       "Duloxetine                      2\n",
       "clavulanate K+                  2\n",
       "benazepril                      1\n",
       "cymbalta                        1\n",
       "fexofenadine                    1\n",
       "pregabalin                      1\n",
       "trimethoprim DS                 1\n",
       "carisoprodol                    1\n",
       "prednisone                      1\n",
       "fenofibrate                     1\n",
       "bupropion sr                    1\n",
       "levothyroxine sodium            1\n",
       "fluticasone nasal spray         1\n",
       "lorazepam                       1\n",
       "clopidogrel                     1\n",
       "pantoprazole                    1\n",
       "pioglitazone                    1\n",
       "meloxicam                       1\n",
       "Name: Presc12, dtype: int64"
      ]
     },
     "metadata": {},
     "output_type": "display_data"
    },
    {
     "name": "stdout",
     "output_type": "stream",
     "text": [
      "----------------------------------------Presc13---------------------------------------- - "
     ]
    },
    {
     "data": {
      "text/plain": [
       "0                             7414\n",
       "losartan                         8\n",
       "cialis                           6\n",
       "lantus                           6\n",
       "glyburide                        4\n",
       "pravastatin                      4\n",
       "alprazolam                       4\n",
       "celecoxib                        3\n",
       "metoprolol tartrate              3\n",
       "simvastatin                      3\n",
       "actonel                          3\n",
       "diclofenac sodium                2\n",
       "clotrimazole                     2\n",
       "gabapentin                       2\n",
       "temezepam                        2\n",
       "zolpidem                         2\n",
       "doxycycline hyclate              2\n",
       "lovastatin                       2\n",
       "valsartan                        2\n",
       "levofloxacin                     2\n",
       "quetiapine                       2\n",
       "ezetimibe                        1\n",
       "clonazepam                       1\n",
       "atenolol                         1\n",
       "cymbalta                         1\n",
       "fluconozole                      1\n",
       "fexofenadine                     1\n",
       "oxycodone                        1\n",
       "celebrex                         1\n",
       "cephalexin                       1\n",
       "triamterene                      1\n",
       "fenofibrate                      1\n",
       "sulfamethoxazole                 1\n",
       "meloxicam                        1\n",
       "bupropion sr                     1\n",
       "fluticasone nasal spray          1\n",
       "Premarin                         1\n",
       "flovent hfa 110mcg inhaler       1\n",
       "pioglitazone                     1\n",
       "alendronate                      1\n",
       "ciprofloxacin                    1\n",
       "clonidine HCI                    1\n",
       "naproxen                         1\n",
       "metoprolol succinate XL          1\n",
       "Name: Presc13, dtype: int64"
      ]
     },
     "metadata": {},
     "output_type": "display_data"
    },
    {
     "name": "stdout",
     "output_type": "stream",
     "text": [
      "----------------------------------------Presc14---------------------------------------- - "
     ]
    },
    {
     "data": {
      "text/plain": [
       "0                            7454\n",
       "losartan                        4\n",
       "levofloxacin                    3\n",
       "glyburide                       3\n",
       "metoprolol tartrate             2\n",
       "doxycycline hyclate             2\n",
       "zolpidem                        2\n",
       "lantus                          2\n",
       "triamterene                     2\n",
       "sulfamethoxazole                2\n",
       "cialis                          2\n",
       "alprazolam                      2\n",
       "levothyroxine sodium            2\n",
       "fluconozole                     2\n",
       "pioglitazone                    2\n",
       "fluticasone nasal spray         2\n",
       "temezepam                       1\n",
       "pregabalin                      1\n",
       "amphetamine salt combo xr       1\n",
       "amitriptyline                   1\n",
       "metformin HCI                   1\n",
       "venlafaxine XR                  1\n",
       "clotrimazole                    1\n",
       "ezetimibe                       1\n",
       "hydrocodone                     1\n",
       "pravastatin                     1\n",
       "diclofenac sodium               1\n",
       "simvastatin                     1\n",
       "abilify                         1\n",
       "Name: Presc14, dtype: int64"
      ]
     },
     "metadata": {},
     "output_type": "display_data"
    },
    {
     "name": "stdout",
     "output_type": "stream",
     "text": [
      "----------------------------------------Presc15---------------------------------------- - "
     ]
    },
    {
     "data": {
      "text/plain": [
       "0                      7476\n",
       "celebrex                  3\n",
       "doxycycline hyclate       2\n",
       "losartan                  2\n",
       "lantus                    2\n",
       "cialis                    2\n",
       "pravastatin               1\n",
       "cymbalta                  1\n",
       "zolpidem                  1\n",
       "metformin HCI             1\n",
       "hydrocodone               1\n",
       "ezetimibe                 1\n",
       "diclofenac sodium         1\n",
       "esomeprazole              1\n",
       "clonidine HCI             1\n",
       "spironolactone            1\n",
       "metoprolol tartrate       1\n",
       "clavulanate K+            1\n",
       "pioglitazone              1\n",
       "abilify                   1\n",
       "Name: Presc15, dtype: int64"
      ]
     },
     "metadata": {},
     "output_type": "display_data"
    },
    {
     "name": "stdout",
     "output_type": "stream",
     "text": [
      "----------------------------------------Presc16---------------------------------------- - "
     ]
    },
    {
     "data": {
      "text/plain": [
       "0                       7493\n",
       "albuterol HFA              1\n",
       "levofloxacin               1\n",
       "celebrex                   1\n",
       "quetiapine                 1\n",
       "spironolactone             1\n",
       "diazepam                   1\n",
       "temezepam                  1\n",
       "dextroamphetamine XR       1\n",
       "Name: Presc16, dtype: int64"
      ]
     },
     "metadata": {},
     "output_type": "display_data"
    },
    {
     "name": "stdout",
     "output_type": "stream",
     "text": [
      "----------------------------------------Presc17---------------------------------------- - "
     ]
    },
    {
     "data": {
      "text/plain": [
       "0                7497\n",
       "levofloxacin        2\n",
       "albuterol HFA       1\n",
       "glyburide           1\n",
       "Name: Presc17, dtype: int64"
      ]
     },
     "metadata": {},
     "output_type": "display_data"
    },
    {
     "name": "stdout",
     "output_type": "stream",
     "text": [
      "----------------------------------------Presc18---------------------------------------- - "
     ]
    },
    {
     "data": {
      "text/plain": [
       "0               7497\n",
       "temezepam          2\n",
       "levofloxacin       1\n",
       "promethazine       1\n",
       "Name: Presc18, dtype: int64"
      ]
     },
     "metadata": {},
     "output_type": "display_data"
    },
    {
     "name": "stdout",
     "output_type": "stream",
     "text": [
      "----------------------------------------Presc19---------------------------------------- - "
     ]
    },
    {
     "data": {
      "text/plain": [
       "0                7498\n",
       "clonidine HCI       1\n",
       "boniva              1\n",
       "promethazine        1\n",
       "Name: Presc19, dtype: int64"
      ]
     },
     "metadata": {},
     "output_type": "display_data"
    },
    {
     "name": "stdout",
     "output_type": "stream",
     "text": [
      "----------------------------------------Presc20---------------------------------------- - "
     ]
    },
    {
     "data": {
      "text/plain": [
       "0            7500\n",
       "glipizide       1\n",
       "Name: Presc20, dtype: int64"
      ]
     },
     "metadata": {},
     "output_type": "display_data"
    }
   ],
   "source": [
    "# Prepared data set copy:\n",
    "for col in medical_df.columns:\n",
    "    print('-' * 40 + col + '-' * 40 , end=' - ')\n",
    "    display(medical_df[col].value_counts())\n",
    "\n",
    "medical_df.to_csv(\"medical_market_prepared.csv\", index=False)"
   ]
  },
  {
   "cell_type": "code",
   "execution_count": 17,
   "id": "f686622e",
   "metadata": {},
   "outputs": [],
   "source": [
    "# Convert the pandas dataset into list of lists format for use with Apriori algorithm\n",
    "medical_list = []\n",
    "for i in range(0, 7501):\n",
    "    medical_list.append([str(medical_df.values[i, j]) for j in range(0, 20)])\n",
    "    \n",
    "medical_cleaned = pd.DataFrame(medical_list)"
   ]
  },
  {
   "cell_type": "code",
   "execution_count": 18,
   "id": "93d83f8e",
   "metadata": {},
   "outputs": [
    {
     "data": {
      "text/html": [
       "<div>\n",
       "<style scoped>\n",
       "    .dataframe tbody tr th:only-of-type {\n",
       "        vertical-align: middle;\n",
       "    }\n",
       "\n",
       "    .dataframe tbody tr th {\n",
       "        vertical-align: top;\n",
       "    }\n",
       "\n",
       "    .dataframe thead th {\n",
       "        text-align: right;\n",
       "    }\n",
       "</style>\n",
       "<table border=\"1\" class=\"dataframe\">\n",
       "  <thead>\n",
       "    <tr style=\"text-align: right;\">\n",
       "      <th></th>\n",
       "      <th>0</th>\n",
       "      <th>1</th>\n",
       "      <th>2</th>\n",
       "      <th>3</th>\n",
       "      <th>4</th>\n",
       "      <th>5</th>\n",
       "      <th>6</th>\n",
       "      <th>7</th>\n",
       "      <th>8</th>\n",
       "      <th>9</th>\n",
       "      <th>10</th>\n",
       "      <th>11</th>\n",
       "      <th>12</th>\n",
       "      <th>13</th>\n",
       "      <th>14</th>\n",
       "      <th>15</th>\n",
       "      <th>16</th>\n",
       "      <th>17</th>\n",
       "      <th>18</th>\n",
       "      <th>19</th>\n",
       "    </tr>\n",
       "  </thead>\n",
       "  <tbody>\n",
       "    <tr>\n",
       "      <th>0</th>\n",
       "      <td>amlodipine</td>\n",
       "      <td>albuterol aerosol</td>\n",
       "      <td>allopurinol</td>\n",
       "      <td>pantoprazole</td>\n",
       "      <td>lorazepam</td>\n",
       "      <td>omeprazole</td>\n",
       "      <td>mometasone</td>\n",
       "      <td>fluconozole</td>\n",
       "      <td>gabapentin</td>\n",
       "      <td>pravastatin</td>\n",
       "      <td>cialis</td>\n",
       "      <td>losartan</td>\n",
       "      <td>metoprolol succinate XL</td>\n",
       "      <td>sulfamethoxazole</td>\n",
       "      <td>abilify</td>\n",
       "      <td>spironolactone</td>\n",
       "      <td>albuterol HFA</td>\n",
       "      <td>levofloxacin</td>\n",
       "      <td>promethazine</td>\n",
       "      <td>glipizide</td>\n",
       "    </tr>\n",
       "    <tr>\n",
       "      <th>1</th>\n",
       "      <td>citalopram</td>\n",
       "      <td>benicar</td>\n",
       "      <td>amphetamine salt combo xr</td>\n",
       "      <td>0</td>\n",
       "      <td>0</td>\n",
       "      <td>0</td>\n",
       "      <td>0</td>\n",
       "      <td>0</td>\n",
       "      <td>0</td>\n",
       "      <td>0</td>\n",
       "      <td>0</td>\n",
       "      <td>0</td>\n",
       "      <td>0</td>\n",
       "      <td>0</td>\n",
       "      <td>0</td>\n",
       "      <td>0</td>\n",
       "      <td>0</td>\n",
       "      <td>0</td>\n",
       "      <td>0</td>\n",
       "      <td>0</td>\n",
       "    </tr>\n",
       "    <tr>\n",
       "      <th>2</th>\n",
       "      <td>enalapril</td>\n",
       "      <td>0</td>\n",
       "      <td>0</td>\n",
       "      <td>0</td>\n",
       "      <td>0</td>\n",
       "      <td>0</td>\n",
       "      <td>0</td>\n",
       "      <td>0</td>\n",
       "      <td>0</td>\n",
       "      <td>0</td>\n",
       "      <td>0</td>\n",
       "      <td>0</td>\n",
       "      <td>0</td>\n",
       "      <td>0</td>\n",
       "      <td>0</td>\n",
       "      <td>0</td>\n",
       "      <td>0</td>\n",
       "      <td>0</td>\n",
       "      <td>0</td>\n",
       "      <td>0</td>\n",
       "    </tr>\n",
       "    <tr>\n",
       "      <th>3</th>\n",
       "      <td>paroxetine</td>\n",
       "      <td>allopurinol</td>\n",
       "      <td>0</td>\n",
       "      <td>0</td>\n",
       "      <td>0</td>\n",
       "      <td>0</td>\n",
       "      <td>0</td>\n",
       "      <td>0</td>\n",
       "      <td>0</td>\n",
       "      <td>0</td>\n",
       "      <td>0</td>\n",
       "      <td>0</td>\n",
       "      <td>0</td>\n",
       "      <td>0</td>\n",
       "      <td>0</td>\n",
       "      <td>0</td>\n",
       "      <td>0</td>\n",
       "      <td>0</td>\n",
       "      <td>0</td>\n",
       "      <td>0</td>\n",
       "    </tr>\n",
       "    <tr>\n",
       "      <th>4</th>\n",
       "      <td>abilify</td>\n",
       "      <td>atorvastatin</td>\n",
       "      <td>folic acid</td>\n",
       "      <td>naproxen</td>\n",
       "      <td>losartan</td>\n",
       "      <td>0</td>\n",
       "      <td>0</td>\n",
       "      <td>0</td>\n",
       "      <td>0</td>\n",
       "      <td>0</td>\n",
       "      <td>0</td>\n",
       "      <td>0</td>\n",
       "      <td>0</td>\n",
       "      <td>0</td>\n",
       "      <td>0</td>\n",
       "      <td>0</td>\n",
       "      <td>0</td>\n",
       "      <td>0</td>\n",
       "      <td>0</td>\n",
       "      <td>0</td>\n",
       "    </tr>\n",
       "  </tbody>\n",
       "</table>\n",
       "</div>"
      ],
      "text/plain": [
       "           0                  1                          2             3   \\\n",
       "0  amlodipine  albuterol aerosol                allopurinol  pantoprazole   \n",
       "1  citalopram            benicar  amphetamine salt combo xr             0   \n",
       "2   enalapril                  0                          0             0   \n",
       "3  paroxetine        allopurinol                          0             0   \n",
       "4     abilify       atorvastatin                 folic acid      naproxen   \n",
       "\n",
       "          4           5           6            7           8            9   \\\n",
       "0  lorazepam  omeprazole  mometasone  fluconozole  gabapentin  pravastatin   \n",
       "1          0           0           0            0           0            0   \n",
       "2          0           0           0            0           0            0   \n",
       "3          0           0           0            0           0            0   \n",
       "4   losartan           0           0            0           0            0   \n",
       "\n",
       "       10        11                       12                13       14  \\\n",
       "0  cialis  losartan  metoprolol succinate XL  sulfamethoxazole  abilify   \n",
       "1       0         0                        0                 0        0   \n",
       "2       0         0                        0                 0        0   \n",
       "3       0         0                        0                 0        0   \n",
       "4       0         0                        0                 0        0   \n",
       "\n",
       "               15             16            17            18         19  \n",
       "0  spironolactone  albuterol HFA  levofloxacin  promethazine  glipizide  \n",
       "1               0              0             0             0          0  \n",
       "2               0              0             0             0          0  \n",
       "3               0              0             0             0          0  \n",
       "4               0              0             0             0          0  "
      ]
     },
     "execution_count": 18,
     "metadata": {},
     "output_type": "execute_result"
    }
   ],
   "source": [
    "# Review DataFrame\n",
    "medical_cleaned.head()"
   ]
  },
  {
   "cell_type": "code",
   "execution_count": 19,
   "id": "51b77d0a",
   "metadata": {
    "scrolled": true
   },
   "outputs": [
    {
     "data": {
      "text/plain": [
       "[['amlodipine',\n",
       "  'albuterol aerosol',\n",
       "  'allopurinol',\n",
       "  'pantoprazole',\n",
       "  'lorazepam',\n",
       "  'omeprazole',\n",
       "  'mometasone',\n",
       "  'fluconozole',\n",
       "  'gabapentin',\n",
       "  'pravastatin',\n",
       "  'cialis',\n",
       "  'losartan',\n",
       "  'metoprolol succinate XL',\n",
       "  'sulfamethoxazole',\n",
       "  'abilify',\n",
       "  'spironolactone',\n",
       "  'albuterol HFA',\n",
       "  'levofloxacin',\n",
       "  'promethazine',\n",
       "  'glipizide']]"
      ]
     },
     "execution_count": 19,
     "metadata": {},
     "output_type": "execute_result"
    }
   ],
   "source": [
    "#The first transaction of data set\n",
    "medical_list[:1]"
   ]
  },
  {
   "cell_type": "markdown",
   "id": "589df0c2",
   "metadata": {},
   "source": [
    "**C2. Code Execution with the Apriori Algorithm**"
   ]
  },
  {
   "cell_type": "code",
   "execution_count": 20,
   "id": "10e482ff",
   "metadata": {},
   "outputs": [],
   "source": [
    "# Importing the library - Apriori algorithm\n",
    "from apyori import apriori\n",
    "\n",
    "# Train Apriori algorithm  model on the dataset\n",
    "association_rules = apriori(medical_list, min_support = 0.002, min_confidence = 0.7, min_lift = 1.2, min_length = 2)\n",
    "\n",
    "# Review generate rules\n",
    "association_rules = list(association_rules)\n"
   ]
  },
  {
   "cell_type": "code",
   "execution_count": 21,
   "id": "613584c9",
   "metadata": {},
   "outputs": [
    {
     "name": "stdout",
     "output_type": "stream",
     "text": [
      "22\n"
     ]
    }
   ],
   "source": [
    "#The number of rules\n",
    "print(len(association_rules))"
   ]
  },
  {
   "cell_type": "code",
   "execution_count": 22,
   "id": "68b6b016",
   "metadata": {},
   "outputs": [
    {
     "name": "stdout",
     "output_type": "stream",
     "text": [
      "RelationRecord(items=frozenset({'carvedilol', 'abilify', 'valsartan'}), support=0.0023996800426609784, ordered_statistics=[OrderedStatistic(items_base=frozenset({'carvedilol', 'valsartan'}), items_add=frozenset({'abilify'}), confidence=0.72, lift=3.0205369127516777)])\n"
     ]
    }
   ],
   "source": [
    "#Have a glance at the first rule\n",
    "\n",
    "print(association_rules[0])"
   ]
  },
  {
   "cell_type": "markdown",
   "id": "fc1a4ee3",
   "metadata": {},
   "source": [
    "The support value for the first rule is 0.0023996800426609784, which is calculated by dividing the number of transactions containing 'carvedilol', 'valsartan', 'abilify' by the total number of transactions.\n",
    "\n",
    "The confidence level is 0.72, showing that out of all the transactions containing 'carvedilol' and \n",
    "'valsartan', 72% include 'abilify'.\n",
    "\n",
    "The lift of 3.0205369127516777 tells us that the customer who buys both 'carvedilol' and 'valsartan' will be 3.0205369127516777 times more likely also buy abilify' and compared to the default likelihood sale of 'abilify'."
   ]
  },
  {
   "cell_type": "markdown",
   "id": "1105e897",
   "metadata": {},
   "source": [
    "**C3. Association Rules Table**"
   ]
  },
  {
   "cell_type": "code",
   "execution_count": 23,
   "id": "068db819",
   "metadata": {},
   "outputs": [
    {
     "name": "stdout",
     "output_type": "stream",
     "text": [
      "frozenset({'carvedilol', 'abilify', 'valsartan'})\n",
      "frozenset({'tamsulosin', 'paroxetine', 'abilify'})\n",
      "frozenset({'alprazolam', 'acetaminophen', 'hydrocodone'})\n",
      "frozenset({'carvedilol', '0', 'abilify', 'valsartan'})\n",
      "frozenset({'tamsulosin', 'paroxetine', '0', 'abilify'})\n",
      "frozenset({'alprazolam', '0', 'acetaminophen', 'hydrocodone'})\n",
      "frozenset({'atorvastatin', 'amphetamine salt combo xr', 'abilify', 'glipizide'})\n",
      "frozenset({'fenofibrate', 'carvedilol', 'amphetamine salt combo xr', 'abilify'})\n",
      "frozenset({'atorvastatin', 'metformin', 'abilify', 'metoprolol'})\n",
      "frozenset({'fenofibrate', 'carvedilol', 'doxycycline hyclate', 'abilify'})\n",
      "frozenset({'metformin', 'carvedilol', 'doxycycline hyclate', 'abilify'})\n",
      "frozenset({'glipizide', 'abilify', 'metoprolol', 'diazepam'})\n",
      "frozenset({'carvedilol', 'lisinopril', 'metoprolol', 'amlodipine'})\n",
      "frozenset({'glipizide', 'carvedilol', 'metoprolol', 'amphetamine salt combo'})\n",
      "frozenset({'atorvastatin', '0', 'amphetamine salt combo xr', 'glipizide', 'abilify'})\n",
      "frozenset({'0', 'amphetamine salt combo xr', 'fenofibrate', 'carvedilol', 'abilify'})\n",
      "frozenset({'atorvastatin', 'metformin', '0', 'metoprolol', 'abilify'})\n",
      "frozenset({'doxycycline hyclate', '0', 'fenofibrate', 'carvedilol', 'abilify'})\n",
      "frozenset({'metformin', 'doxycycline hyclate', '0', 'carvedilol', 'abilify'})\n",
      "frozenset({'0', 'metoprolol', 'diazepam', 'glipizide', 'abilify'})\n",
      "frozenset({'0', 'metoprolol', 'amlodipine', 'carvedilol', 'lisinopril'})\n",
      "frozenset({'0', 'metoprolol', 'glipizide', 'carvedilol', 'amphetamine salt combo'})\n"
     ]
    }
   ],
   "source": [
    "#Now let run the list of association rules between all items\n",
    "\n",
    "for i in range(0, len(association_rules)):\n",
    "    print(association_rules[i][0])"
   ]
  },
  {
   "cell_type": "code",
   "execution_count": 24,
   "id": "6e18ec12",
   "metadata": {},
   "outputs": [
    {
     "name": "stdout",
     "output_type": "stream",
     "text": [
      "Rule: carvedilol -> abilify\n",
      "Support: 0.0023996800426609784\n",
      "Confidence: 0.72\n",
      "Lift: 3.0205369127516777\n",
      "-------------------------------------------\n",
      "Rule: tamsulosin -> paroxetine\n",
      "Support: 0.0021330489268097585\n",
      "Confidence: 0.7272727272727272\n",
      "Lift: 3.051047386617856\n",
      "-------------------------------------------\n",
      "Rule: alprazolam -> acetaminophen\n",
      "Support: 0.0025329956005865884\n",
      "Confidence: 0.95\n",
      "Lift: 11.976386554621849\n",
      "-------------------------------------------\n",
      "Rule: carvedilol -> 0\n",
      "Support: 0.0023996800426609784\n",
      "Confidence: 0.72\n",
      "Lift: 3.0222271964185783\n",
      "-------------------------------------------\n",
      "Rule: tamsulosin -> paroxetine\n",
      "Support: 0.0021330489268097585\n",
      "Confidence: 0.7272727272727272\n",
      "Lift: 3.0527547438571494\n",
      "-------------------------------------------\n",
      "Rule: alprazolam -> 0\n",
      "Support: 0.0025329956005865884\n",
      "Confidence: 0.95\n",
      "Lift: 11.976386554621849\n",
      "-------------------------------------------\n",
      "Rule: atorvastatin -> amphetamine salt combo xr\n",
      "Support: 0.0026663111585121984\n",
      "Confidence: 0.7142857142857143\n",
      "Lift: 2.996564397571109\n",
      "-------------------------------------------\n",
      "Rule: fenofibrate -> carvedilol\n",
      "Support: 0.0029329422743634183\n",
      "Confidence: 0.7096774193548387\n",
      "Lift: 2.9772317240383925\n",
      "-------------------------------------------\n",
      "Rule: atorvastatin -> metformin\n",
      "Support: 0.0030662578322890282\n",
      "Confidence: 0.7666666666666666\n",
      "Lift: 3.21631245339299\n",
      "-------------------------------------------\n",
      "Rule: fenofibrate -> carvedilol\n",
      "Support: 0.0021330489268097585\n",
      "Confidence: 0.7272727272727272\n",
      "Lift: 3.051047386617856\n",
      "-------------------------------------------\n",
      "Rule: metformin -> carvedilol\n",
      "Support: 0.0022663644847353685\n",
      "Confidence: 0.7727272727272727\n",
      "Lift: 3.2417378482814723\n",
      "-------------------------------------------\n",
      "Rule: glipizide -> abilify\n",
      "Support: 0.0027996267164378083\n",
      "Confidence: 0.7\n",
      "Lift: 2.9366331096196867\n",
      "-------------------------------------------\n",
      "Rule: carvedilol -> lisinopril\n",
      "Support: 0.0023996800426609784\n",
      "Confidence: 0.7499999999999999\n",
      "Lift: 4.307618683001531\n",
      "-------------------------------------------\n",
      "Rule: glipizide -> carvedilol\n",
      "Support: 0.0021330489268097585\n",
      "Confidence: 0.8421052631578947\n",
      "Lift: 4.836624486177158\n",
      "-------------------------------------------\n",
      "Rule: atorvastatin -> 0\n",
      "Support: 0.0026663111585121984\n",
      "Confidence: 0.7142857142857143\n",
      "Lift: 2.9982412662882725\n",
      "-------------------------------------------\n",
      "Rule: 0 -> amphetamine salt combo xr\n",
      "Support: 0.0029329422743634183\n",
      "Confidence: 0.7096774193548387\n",
      "Lift: 2.9788977742477027\n",
      "-------------------------------------------\n",
      "Rule: atorvastatin -> metformin\n",
      "Support: 0.0030662578322890282\n",
      "Confidence: 0.7666666666666666\n",
      "Lift: 3.218112292482745\n",
      "-------------------------------------------\n",
      "Rule: doxycycline hyclate -> 0\n",
      "Support: 0.0021330489268097585\n",
      "Confidence: 0.7272727272727272\n",
      "Lift: 3.0527547438571494\n",
      "-------------------------------------------\n",
      "Rule: metformin -> doxycycline hyclate\n",
      "Support: 0.0022663644847353685\n",
      "Confidence: 0.7727272727272727\n",
      "Lift: 3.2435519153482217\n",
      "-------------------------------------------\n",
      "Rule: 0 -> metoprolol\n",
      "Support: 0.0027996267164378083\n",
      "Confidence: 0.7\n",
      "Lift: 2.9382764409625066\n",
      "-------------------------------------------\n",
      "Rule: 0 -> metoprolol\n",
      "Support: 0.0023996800426609784\n",
      "Confidence: 0.7499999999999999\n",
      "Lift: 4.307618683001531\n",
      "-------------------------------------------\n",
      "Rule: 0 -> metoprolol\n",
      "Support: 0.0021330489268097585\n",
      "Confidence: 0.8421052631578947\n",
      "Lift: 4.836624486177158\n",
      "-------------------------------------------\n"
     ]
    }
   ],
   "source": [
    "#Display Rule, Support, Confidence and lift ratio for every above association rule by using for loop\n",
    "\n",
    "for item in association_rules:\n",
    "    # first index of the inner list\n",
    "    # Contains base item and add item\n",
    "    pair = item[0]\n",
    "    items = [x for x in pair]\n",
    "    print(\"Rule: \" + items[0] + \" -> \" + items[1])\n",
    "    # second index of the inner list\n",
    "    print(\"Support: \" + str(item[1]))\n",
    "    # third index of the list located at 0th position\n",
    "    # of the third index of the inner list\n",
    "    print(\"Confidence: \" + str(item[2][0][2]))\n",
    "    print(\"Lift: \" + str(item[2][0][3]))\n",
    "    print(\"-------------------------------------------\")"
   ]
  },
  {
   "cell_type": "markdown",
   "id": "17bf91de",
   "metadata": {},
   "source": [
    "After running the final results to create the association rules table with Support, Confidence and lift ratio, we can prove statistically that 'carvedilol', and 'valsartan' have the highest combination of values for our three metrics:\n",
    "\n",
    "Rule: carvedilol -> valsartan\n",
    "\n",
    "Support: 0.0023996800426609784\n",
    "\n",
    "Confidence: 0.72\n",
    "\n",
    "Lift: 3.0205369127516777\n",
    "\n",
    "The support value for the rule is 0.0023996800426609784, which is calculated by dividing the number of transactions containing 'carvedilol', 'valsartan' by the total number of transactions.\n",
    "\n",
    "The confidence level is 0.72, which shows that out of all the transactions containing 'carvedilol', 72% include 'valsartan'.\n",
    "\n",
    "The lift of 3.0205369127516777 tells us that the customer who buys 'carvedilol' will be 3.0205369127516777 times more likely also buy 'valsartan' and compared to the default likelihood sale of 'valsartan'."
   ]
  },
  {
   "cell_type": "code",
   "execution_count": 25,
   "id": "b82b6275",
   "metadata": {},
   "outputs": [
    {
     "data": {
      "text/html": [
       "<div>\n",
       "<style scoped>\n",
       "    .dataframe tbody tr th:only-of-type {\n",
       "        vertical-align: middle;\n",
       "    }\n",
       "\n",
       "    .dataframe tbody tr th {\n",
       "        vertical-align: top;\n",
       "    }\n",
       "\n",
       "    .dataframe thead th {\n",
       "        text-align: right;\n",
       "    }\n",
       "</style>\n",
       "<table border=\"1\" class=\"dataframe\">\n",
       "  <thead>\n",
       "    <tr style=\"text-align: right;\">\n",
       "      <th></th>\n",
       "      <th>items</th>\n",
       "      <th>support</th>\n",
       "      <th>ordered_statistics</th>\n",
       "    </tr>\n",
       "  </thead>\n",
       "  <tbody>\n",
       "    <tr>\n",
       "      <th>0</th>\n",
       "      <td>(carvedilol, abilify, valsartan)</td>\n",
       "      <td>0.002400</td>\n",
       "      <td>[((carvedilol, valsartan), (abilify), 0.72, 3....</td>\n",
       "    </tr>\n",
       "    <tr>\n",
       "      <th>1</th>\n",
       "      <td>(tamsulosin, paroxetine, abilify)</td>\n",
       "      <td>0.002133</td>\n",
       "      <td>[((tamsulosin, paroxetine), (abilify), 0.72727...</td>\n",
       "    </tr>\n",
       "    <tr>\n",
       "      <th>2</th>\n",
       "      <td>(alprazolam, acetaminophen, hydrocodone)</td>\n",
       "      <td>0.002533</td>\n",
       "      <td>[((acetaminophen, hydrocodone), (alprazolam), ...</td>\n",
       "    </tr>\n",
       "    <tr>\n",
       "      <th>3</th>\n",
       "      <td>(carvedilol, 0, abilify, valsartan)</td>\n",
       "      <td>0.002400</td>\n",
       "      <td>[((carvedilol, valsartan), (0, abilify), 0.72,...</td>\n",
       "    </tr>\n",
       "    <tr>\n",
       "      <th>4</th>\n",
       "      <td>(tamsulosin, paroxetine, 0, abilify)</td>\n",
       "      <td>0.002133</td>\n",
       "      <td>[((tamsulosin, paroxetine), (0, abilify), 0.72...</td>\n",
       "    </tr>\n",
       "    <tr>\n",
       "      <th>5</th>\n",
       "      <td>(alprazolam, 0, acetaminophen, hydrocodone)</td>\n",
       "      <td>0.002533</td>\n",
       "      <td>[((acetaminophen, hydrocodone), (alprazolam, 0...</td>\n",
       "    </tr>\n",
       "    <tr>\n",
       "      <th>6</th>\n",
       "      <td>(atorvastatin, amphetamine salt combo xr, abil...</td>\n",
       "      <td>0.002666</td>\n",
       "      <td>[((atorvastatin, amphetamine salt combo xr, gl...</td>\n",
       "    </tr>\n",
       "    <tr>\n",
       "      <th>7</th>\n",
       "      <td>(fenofibrate, carvedilol, amphetamine salt com...</td>\n",
       "      <td>0.002933</td>\n",
       "      <td>[((fenofibrate, carvedilol, amphetamine salt c...</td>\n",
       "    </tr>\n",
       "    <tr>\n",
       "      <th>8</th>\n",
       "      <td>(atorvastatin, metformin, abilify, metoprolol)</td>\n",
       "      <td>0.003066</td>\n",
       "      <td>[((atorvastatin, metformin, metoprolol), (abil...</td>\n",
       "    </tr>\n",
       "    <tr>\n",
       "      <th>9</th>\n",
       "      <td>(fenofibrate, carvedilol, doxycycline hyclate,...</td>\n",
       "      <td>0.002133</td>\n",
       "      <td>[((fenofibrate, carvedilol, doxycycline hyclat...</td>\n",
       "    </tr>\n",
       "    <tr>\n",
       "      <th>10</th>\n",
       "      <td>(metformin, carvedilol, doxycycline hyclate, a...</td>\n",
       "      <td>0.002266</td>\n",
       "      <td>[((metformin, carvedilol, doxycycline hyclate)...</td>\n",
       "    </tr>\n",
       "    <tr>\n",
       "      <th>11</th>\n",
       "      <td>(glipizide, abilify, metoprolol, diazepam)</td>\n",
       "      <td>0.002800</td>\n",
       "      <td>[((glipizide, metoprolol, diazepam), (abilify)...</td>\n",
       "    </tr>\n",
       "    <tr>\n",
       "      <th>12</th>\n",
       "      <td>(carvedilol, lisinopril, metoprolol, amlodipine)</td>\n",
       "      <td>0.002400</td>\n",
       "      <td>[((lisinopril, metoprolol, amlodipine), (carve...</td>\n",
       "    </tr>\n",
       "    <tr>\n",
       "      <th>13</th>\n",
       "      <td>(glipizide, carvedilol, metoprolol, amphetamin...</td>\n",
       "      <td>0.002133</td>\n",
       "      <td>[((glipizide, metoprolol, amphetamine salt com...</td>\n",
       "    </tr>\n",
       "    <tr>\n",
       "      <th>14</th>\n",
       "      <td>(atorvastatin, 0, amphetamine salt combo xr, g...</td>\n",
       "      <td>0.002666</td>\n",
       "      <td>[((atorvastatin, amphetamine salt combo xr, gl...</td>\n",
       "    </tr>\n",
       "    <tr>\n",
       "      <th>15</th>\n",
       "      <td>(0, amphetamine salt combo xr, fenofibrate, ca...</td>\n",
       "      <td>0.002933</td>\n",
       "      <td>[((fenofibrate, carvedilol, amphetamine salt c...</td>\n",
       "    </tr>\n",
       "    <tr>\n",
       "      <th>16</th>\n",
       "      <td>(atorvastatin, metformin, 0, metoprolol, abilify)</td>\n",
       "      <td>0.003066</td>\n",
       "      <td>[((atorvastatin, metformin, metoprolol), (0, a...</td>\n",
       "    </tr>\n",
       "    <tr>\n",
       "      <th>17</th>\n",
       "      <td>(doxycycline hyclate, 0, fenofibrate, carvedil...</td>\n",
       "      <td>0.002133</td>\n",
       "      <td>[((fenofibrate, carvedilol, doxycycline hyclat...</td>\n",
       "    </tr>\n",
       "    <tr>\n",
       "      <th>18</th>\n",
       "      <td>(metformin, doxycycline hyclate, 0, carvedilol...</td>\n",
       "      <td>0.002266</td>\n",
       "      <td>[((metformin, carvedilol, doxycycline hyclate)...</td>\n",
       "    </tr>\n",
       "    <tr>\n",
       "      <th>19</th>\n",
       "      <td>(0, metoprolol, diazepam, glipizide, abilify)</td>\n",
       "      <td>0.002800</td>\n",
       "      <td>[((glipizide, metoprolol, diazepam), (0, abili...</td>\n",
       "    </tr>\n",
       "    <tr>\n",
       "      <th>20</th>\n",
       "      <td>(0, metoprolol, amlodipine, carvedilol, lisino...</td>\n",
       "      <td>0.002400</td>\n",
       "      <td>[((lisinopril, metoprolol, amlodipine), (carve...</td>\n",
       "    </tr>\n",
       "    <tr>\n",
       "      <th>21</th>\n",
       "      <td>(0, metoprolol, glipizide, carvedilol, ampheta...</td>\n",
       "      <td>0.002133</td>\n",
       "      <td>[((glipizide, metoprolol, amphetamine salt com...</td>\n",
       "    </tr>\n",
       "  </tbody>\n",
       "</table>\n",
       "</div>"
      ],
      "text/plain": [
       "                                                items   support  \\\n",
       "0                    (carvedilol, abilify, valsartan)  0.002400   \n",
       "1                   (tamsulosin, paroxetine, abilify)  0.002133   \n",
       "2            (alprazolam, acetaminophen, hydrocodone)  0.002533   \n",
       "3                 (carvedilol, 0, abilify, valsartan)  0.002400   \n",
       "4                (tamsulosin, paroxetine, 0, abilify)  0.002133   \n",
       "5         (alprazolam, 0, acetaminophen, hydrocodone)  0.002533   \n",
       "6   (atorvastatin, amphetamine salt combo xr, abil...  0.002666   \n",
       "7   (fenofibrate, carvedilol, amphetamine salt com...  0.002933   \n",
       "8      (atorvastatin, metformin, abilify, metoprolol)  0.003066   \n",
       "9   (fenofibrate, carvedilol, doxycycline hyclate,...  0.002133   \n",
       "10  (metformin, carvedilol, doxycycline hyclate, a...  0.002266   \n",
       "11         (glipizide, abilify, metoprolol, diazepam)  0.002800   \n",
       "12   (carvedilol, lisinopril, metoprolol, amlodipine)  0.002400   \n",
       "13  (glipizide, carvedilol, metoprolol, amphetamin...  0.002133   \n",
       "14  (atorvastatin, 0, amphetamine salt combo xr, g...  0.002666   \n",
       "15  (0, amphetamine salt combo xr, fenofibrate, ca...  0.002933   \n",
       "16  (atorvastatin, metformin, 0, metoprolol, abilify)  0.003066   \n",
       "17  (doxycycline hyclate, 0, fenofibrate, carvedil...  0.002133   \n",
       "18  (metformin, doxycycline hyclate, 0, carvedilol...  0.002266   \n",
       "19      (0, metoprolol, diazepam, glipizide, abilify)  0.002800   \n",
       "20  (0, metoprolol, amlodipine, carvedilol, lisino...  0.002400   \n",
       "21  (0, metoprolol, glipizide, carvedilol, ampheta...  0.002133   \n",
       "\n",
       "                                   ordered_statistics  \n",
       "0   [((carvedilol, valsartan), (abilify), 0.72, 3....  \n",
       "1   [((tamsulosin, paroxetine), (abilify), 0.72727...  \n",
       "2   [((acetaminophen, hydrocodone), (alprazolam), ...  \n",
       "3   [((carvedilol, valsartan), (0, abilify), 0.72,...  \n",
       "4   [((tamsulosin, paroxetine), (0, abilify), 0.72...  \n",
       "5   [((acetaminophen, hydrocodone), (alprazolam, 0...  \n",
       "6   [((atorvastatin, amphetamine salt combo xr, gl...  \n",
       "7   [((fenofibrate, carvedilol, amphetamine salt c...  \n",
       "8   [((atorvastatin, metformin, metoprolol), (abil...  \n",
       "9   [((fenofibrate, carvedilol, doxycycline hyclat...  \n",
       "10  [((metformin, carvedilol, doxycycline hyclate)...  \n",
       "11  [((glipizide, metoprolol, diazepam), (abilify)...  \n",
       "12  [((lisinopril, metoprolol, amlodipine), (carve...  \n",
       "13  [((glipizide, metoprolol, amphetamine salt com...  \n",
       "14  [((atorvastatin, amphetamine salt combo xr, gl...  \n",
       "15  [((fenofibrate, carvedilol, amphetamine salt c...  \n",
       "16  [((atorvastatin, metformin, metoprolol), (0, a...  \n",
       "17  [((fenofibrate, carvedilol, doxycycline hyclat...  \n",
       "18  [((metformin, carvedilol, doxycycline hyclate)...  \n",
       "19  [((glipizide, metoprolol, diazepam), (0, abili...  \n",
       "20  [((lisinopril, metoprolol, amlodipine), (carve...  \n",
       "21  [((glipizide, metoprolol, amphetamine salt com...  "
      ]
     },
     "execution_count": 25,
     "metadata": {},
     "output_type": "execute_result"
    }
   ],
   "source": [
    "# Transform results into DataFrame structure\n",
    "medical_results = pd.DataFrame(association_rules)\n",
    "medical_results"
   ]
  },
  {
   "cell_type": "code",
   "execution_count": 26,
   "id": "04699ade",
   "metadata": {},
   "outputs": [],
   "source": [
    "# Prepared data set copy:\n",
    "medical_results.to_csv(\"medical_market_results.csv\", index=False)"
   ]
  },
  {
   "cell_type": "markdown",
   "id": "7a0663d6",
   "metadata": {},
   "source": [
    "**C4. Top Three Rules**\n",
    "\n",
    "**1. If patients had 'carvedilol', then 'valsartan'**\n",
    "\n",
    "Support: 0.0023996800426609784\n",
    "\n",
    "Confidence: 0.72\n",
    "\n",
    "Lift: 3.0205369127516777\n",
    "\n",
    "The support value for the rule is 0.0023996800426609784, which  is calculated by dividing the number of transactions containing 'carvedilol', 'valsartan' by the total number of transactions.\n",
    "\n",
    "The confidence level is 0.72, which shows that out of all the transactions containing 'carvedilol', 72% include 'valsartan' too. Our confidence in this rule demonstrates that out of all patients who got the 'carvedilol', 72% also have the 'valsartan'.\n",
    "\n",
    "The lift of 3.0205369127516777 tells us that the customer who buys 'carvedilol' will be 3.0205369127516777 times more likely also buy 'valsartan' and compared to the default likelihood sale of 'valsartan'.\n",
    "\n",
    "**2. If patients had 'tamsulosin', then 'paroxetine'**\n",
    "\n",
    "Support: 0.0021330489268097585\n",
    "\n",
    "Confidence: 0.7272727272727272\n",
    "\n",
    "Lift: 3.051047386617856\n",
    "\n",
    "The support value for the rule is 0.0021330489268097585, which is calculated by dividing the number of transactions containing 'tamsulosin', 'paroxetine' by the total number of transactions.\n",
    "\n",
    "The confidence level is 0.73, which shows that out of all the transactions containing 'tamsulosin', 73% include 'paroxetine' too. Our confidence in this rule demonstrates that out of all patients who got the 'tamsulosin', 73% also have the 'paroxetine'.\n",
    "\n",
    "The lift of 3.051047386617856 tells us that the customer who buys 'paroxetine' will be 3.051047386617856 times more likely to buy 'paroxetine' compared to the default likelihood sale of 'paroxetine'.\n",
    "\n",
    "**3. If pateints had 'acetaminophen', then 'alprazolam'**\n",
    "\n",
    "Support: 0.0025329956005865884\n",
    "\n",
    "Confidence: 0.95\n",
    "\n",
    "Lift: 11.976386554621849\n",
    "\n",
    "The support value for the rule is 0.0025329956005865884, which is calculated by dividing the number of transactions containing 'acetaminophen', 'alprazolam' by the total number of transactions.\n",
    "\n",
    "The confidence level is 0.95, which shows that out of all the transactions containing 'acetaminophen', 95% include 'alprazolam' too. Our confidence in this rule demonstrates that out of all patients who got the 'acetaminophen', 95% also have the 'alprazolam'.\n",
    "\n",
    "The lift of 11.976386554621849 tells us that the customer who buys 'acetaminophen' will be 11.976386554621849 times more likely also buy 'alprazolam' and compared to the default likelihood sale of 'alprazolam'."
   ]
  },
  {
   "cell_type": "markdown",
   "id": "cc34ec3b",
   "metadata": {},
   "source": [
    "# Part 4: Summary and Implications"
   ]
  },
  {
   "cell_type": "markdown",
   "id": "d1930332",
   "metadata": {},
   "source": [
    "**D1. Significance of support, lift, and confidence**\n",
    "\n",
    "The three methods of MBA measuring:\n",
    "1. Support: give the number of transactions containing all the cart items.\n",
    "2. Confidence is the conditional probability predicting the statement's right-hand side.\n",
    "3. Lift is the rule's confidence ratio, which is calculated by comparing the complete management to the right-hand side and giving us how many times the consequent is to be purchased once the originator has been purchased.\n",
    "\n",
    "The results of the analysis are compelling. For example, all the rules have a confidence level of greater than 70% and can be greater than 80% (the third top rule is 95%) which would be an optimal value for significance. \n",
    "\n",
    "First, the lowest confidence is in rule number 1 at 72%, and the highest confidence is in rule number 3 at 95%. Second, the support for all top 3 rules is less than 0.3%, so it is not compelling. Finally, the lift ratio gives us how many more times the consequent is purchased once the antecedent has been purchased. The highest lift is 11.976386554621849 provides us with the relationship between purchasing/using 'acetaminophen' and 'alprazolam'. The 'lift' of 11.976386554621849 tells us that 'alprazolam' is 11.976386554621849 times more likely to be got by the patients who get both 'acetaminophen' and compared to the default likelihood sale of 'alprazolam'."
   ]
  },
  {
   "cell_type": "markdown",
   "id": "24888081",
   "metadata": {},
   "source": [
    "**D2. The practical significance of findings**\n",
    "\n",
    "From the analysis above, we found the results contain the value for significance as the confidence of rule 3 is 0.95, and the lift is 11.976386554621849. We have a great chance to predict the most critical variables combined with prescriptions that might reduce the number of patients at high risk of readmission. The top 3 associated prescriptions drugs can help us better understand our patients and identify patterns unique to the readmitted patient. For example, if one of the patients gets 'acetaminophen', 95% will get 'alprazolam'. And the 'alprazolam' is 11.976386554621849 times more likely to be obtained by the patients who get both 'acetaminophen' compared to the default likelihood sale of 'alprazolam'.\n",
    "\n",
    "The limitation of this market basket analysis is that we can not see many candidates with frequent itemsets. It also requires high computation power and needs to scan the entire database. Therefore, when it comes to prescription drugs, the hospital should consider the risk of addiction. Therefore, further analysis is recommended, and we need to collect more data before suggesting any significance. "
   ]
  },
  {
   "cell_type": "markdown",
   "id": "b52fa338",
   "metadata": {},
   "source": [
    "**D3. Actions**\n",
    "\n",
    "Based on the results and practical significance, I do not recommend the hospital move forward with the original plan of offering free samples or marketing prescription drugs together. \"The lifetime prevalence of using any addictive substance was 73.3%, and it has been decreasing during the past few years. Although the lifetime prevalence of PDM was 19.2%, it has been increasing. Males and whites were more likely to use drugs and engage in multiple addictions. Market Basket Analysis identified common drug use initiation sequences that involved 11 drugs.\" (Jayawardence, 2014)\n",
    "The hospital should consider the risk of addiction when determining which variables are the most important in combination with prescription that might reduce the number of patients at high risk of readmission. The hospital should also offer prevention programs that address multiple addictions and substitute addictions. No action is necessary at this time. Further analysis is recommended. We need to collect more data before suggesting any significance and recommend actual actions.\n"
   ]
  },
  {
   "cell_type": "markdown",
   "id": "fa6addcb",
   "metadata": {},
   "source": [
    "# Part 5: Demonstration"
   ]
  },
  {
   "cell_type": "markdown",
   "id": "1a3fc5a7",
   "metadata": {},
   "source": [
    "**F. Panopto recording**\n",
    "\n",
    "Panopto video recording of warning and error free code execution to perform data minning tasks is uploaded to\n",
    "\n"
   ]
  },
  {
   "cell_type": "markdown",
   "id": "1a706fcb",
   "metadata": {},
   "source": [
    "**G. Sources for third-party code**\n",
    "\n",
    "[1] IntelliPaat. (2021, December 24). Introduction to Apriori Algorithm in Python. https://intellipaat.com/blog/data-science-apriori-algorithm/\n",
    "\n",
    "[2] Kadlaskar Amruta. (2021, Octorber 2). A Comprehensive Guide on Market Basket Analysis. https://www.analyticsvidhya.com/blog/2021/10/a-comprehensive-guide-on-market-basket-analysis/"
   ]
  },
  {
   "cell_type": "markdown",
   "id": "ed6b7f91",
   "metadata": {},
   "source": [
    "**H. Acknowledge source**\n",
    "\n",
    "[3] Tech Target Contributor. (2019, May). Market Basket Analysis. https://searchcustomerexperience.techtarget.com/definition/market-basket-analysis\n",
    "\n",
    "[4] Hua. (n.d)Market Basket Analysis. https://sarahtianhua.wordpress.com/portfolio/market-basket-analysis/\n",
    "\n",
    "[5] Wasantha Parakrama Jayawardene. (2014, March). Multiple and substitute addictions involving prescription drugs misuse among 12th graders: gateway theory revisited with Market Basket Analysis. https://pubmed.ncbi.nlm.nih.gov/24440894/\n",
    "\n"
   ]
  }
 ],
 "metadata": {
  "kernelspec": {
   "display_name": "Python 3",
   "language": "python",
   "name": "python3"
  },
  "language_info": {
   "codemirror_mode": {
    "name": "ipython",
    "version": 3
   },
   "file_extension": ".py",
   "mimetype": "text/x-python",
   "name": "python",
   "nbconvert_exporter": "python",
   "pygments_lexer": "ipython3",
   "version": "3.8.8"
  }
 },
 "nbformat": 4,
 "nbformat_minor": 5
}
